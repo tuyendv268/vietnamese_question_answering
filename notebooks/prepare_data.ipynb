{
 "cells": [
  {
   "cell_type": "code",
   "execution_count": 1,
   "metadata": {},
   "outputs": [],
   "source": [
    "from sklearn.model_selection import train_test_split\n",
    "import random\n",
    "from glob import glob\n",
    "import json"
   ]
  },
  {
   "cell_type": "code",
   "execution_count": 2,
   "metadata": {},
   "outputs": [],
   "source": [
    "# def load_file(path):\n",
    "#     with open(path, \"r\", encoding=\"utf-8\") as f:\n",
    "#         data = []\n",
    "#         for line in f.readlines():\n",
    "#             json_obj = json.loads(line)\n",
    "#             data.append(json_obj)\n",
    "#     return data\n",
    "\n",
    "def load_file(path, max_context=7):\n",
    "    with open(path, \"r\", encoding=\"utf-8\") as f:\n",
    "        data = []\n",
    "        for line in f.readlines():\n",
    "            json_obj = json.loads(line.strip())\n",
    "            query = json_obj[\"query\"]\n",
    "            passages = []\n",
    "            mark, count = 0, 0\n",
    "            \n",
    "            for passage in json_obj[\"passages\"]:\n",
    "                if count > max_context:\n",
    "                    break\n",
    "                if passage[\"is_selected\"] == 1:\n",
    "                    if mark == 1:\n",
    "                        continue\n",
    "                    passages.append(passage)\n",
    "                    mark = 1\n",
    "                else:\n",
    "                    if len(passages) == max_context and mark == 0:\n",
    "                        continue\n",
    "                    passages.append(passage)\n",
    "                count+=1\n",
    "                                \n",
    "            random.shuffle(passages)\n",
    "                \n",
    "            if mark == 1:\n",
    "                sample = {\n",
    "                    \"query\":query,\n",
    "                    \"passages\":passages\n",
    "                }\n",
    "                # sample = json.dumps(sample, ensure_ascii=False)\n",
    "                data.append(sample)\n",
    "    return data\n",
    "\n",
    "def save_data(path, data):\n",
    "    with open(path, \"w\", encoding=\"utf-8\") as f:\n",
    "        for sample in data:\n",
    "            json_obj = json.dumps(sample, ensure_ascii=False)\n",
    "            f.write(json_obj+\"\\n\")\n",
    "\n",
    "def load_data(path):\n",
    "    data = []\n",
    "    for _file in glob(path+\"/*.json\"):\n",
    "        data += load_file(_file)\n",
    "      \n",
    "    return data\n"
   ]
  },
  {
   "cell_type": "code",
   "execution_count": 3,
   "metadata": {},
   "outputs": [],
   "source": [
    "path = \"/home/tuyendv/Desktop/mbf_ir/data/processed-ir-data/train\"\n",
    "data = load_data(path)"
   ]
  },
  {
   "cell_type": "code",
   "execution_count": 4,
   "metadata": {},
   "outputs": [
    {
     "name": "stdout",
     "output_type": "stream",
     "text": [
      "train:  322925\n",
      "val:  16997\n"
     ]
    }
   ],
   "source": [
    "random.shuffle(data)\n",
    "train, valid = train_test_split(data, test_size=0.05, random_state=42)\n",
    "print(\"train: \", len(train))\n",
    "print(\"val: \", len(valid))"
   ]
  },
  {
   "cell_type": "code",
   "execution_count": 5,
   "metadata": {},
   "outputs": [],
   "source": [
    "def save_data(path, data):\n",
    "    with open(path, \"w\", encoding=\"utf-8\") as f:\n",
    "        for sample in data:\n",
    "            json_obj = json.dumps(sample, ensure_ascii=False)\n",
    "            f.write(json_obj+\"\\n\")\n",
    "\n",
    "data_size = 50000\n",
    "n = int(len(train)/data_size) + 1\n",
    "\n",
    "for i in range(n):\n",
    "    path = f\"/home/tuyendv/Desktop/mbf_ir/data/qa_data/train/{str(i).zfill(6)}.json\"\n",
    "    save_data(path, data=train[i*data_size:(i+1)*data_size])"
   ]
  },
  {
   "cell_type": "code",
   "execution_count": 6,
   "metadata": {},
   "outputs": [],
   "source": [
    "save_data(\"/home/tuyendv/Desktop/mbf_ir/data/qa_data/val/000000.json\", data=valid)"
   ]
  },
  {
   "cell_type": "code",
   "execution_count": 7,
   "metadata": {},
   "outputs": [],
   "source": [
    "path = \"/home/tuyendv/Desktop/mbf_ir/data/processed-ir-data/test\"\n",
    "data = load_data(path)"
   ]
  },
  {
   "cell_type": "code",
   "execution_count": 8,
   "metadata": {},
   "outputs": [],
   "source": [
    "save_data(\"/home/tuyendv/Desktop/mbf_ir/data/qa_data/test/000000.json\", data=data)"
   ]
  },
  {
   "attachments": {},
   "cell_type": "markdown",
   "metadata": {},
   "source": [
    "### statis"
   ]
  },
  {
   "cell_type": "code",
   "execution_count": null,
   "metadata": {},
   "outputs": [],
   "source": [
    "import json"
   ]
  },
  {
   "cell_type": "code",
   "execution_count": null,
   "metadata": {},
   "outputs": [],
   "source": [
    "def save_data(path, data):\n",
    "    with open(path, \"w\", encoding=\"utf-8\") as f:\n",
    "        for sample in data:\n",
    "            json_obj = json.dumps(sample, ensure_ascii=False)\n",
    "            f.write(json_obj+\"\\n\")"
   ]
  },
  {
   "cell_type": "code",
   "execution_count": null,
   "metadata": {},
   "outputs": [],
   "source": [
    "path = \"/home/tuyendv/Desktop/reranker/data/raw/squad-train-v2.0-en.json\"\n",
    "data = json.load(open(path))"
   ]
  },
  {
   "cell_type": "code",
   "execution_count": null,
   "metadata": {},
   "outputs": [],
   "source": [
    "msmacro_data = []\n",
    "for text in data[\"data\"]:\n",
    "    for paragraph in text[\"paragraphs\"]:\n",
    "        passage = paragraph[\"context\"]\n",
    "        for sample in paragraph[\"qas\"]:\n",
    "            query = sample[\"question\"]\n",
    "            \n",
    "            _temp = {\n",
    "                \"query\": query,\n",
    "                \"passage\": passage\n",
    "            }\n",
    "            msmacro_data.append(_temp)"
   ]
  },
  {
   "cell_type": "code",
   "execution_count": null,
   "metadata": {},
   "outputs": [],
   "source": [
    "save_data(\"/home/tuyendv/Desktop/reranker/data/ir/train/squad-train-v2.0-en.json\", msmacro_data)"
   ]
  },
  {
   "attachments": {},
   "cell_type": "markdown",
   "metadata": {},
   "source": [
    "### vi_squad"
   ]
  },
  {
   "cell_type": "code",
   "execution_count": null,
   "metadata": {},
   "outputs": [],
   "source": [
    "%cd /home/tuyendv/Desktop/reranker\n",
    "import json\n",
    "import pandas as pd\n",
    "from bm25 import BM25\n",
    "from tqdm import tqdm\n",
    "from utils import save_data, load_file"
   ]
  },
  {
   "cell_type": "code",
   "execution_count": null,
   "metadata": {},
   "outputs": [],
   "source": [
    "path = \"/home/tuyendv/Desktop/reranker/data/raw/squad-train-v2.0-en.json\"\n",
    "data = load_file(path)\n",
    "\n",
    "df = pd.DataFrame(data, columns=[\"passage\", \"query\", \"answer\"])\n",
    "df.head()"
   ]
  },
  {
   "cell_type": "code",
   "execution_count": null,
   "metadata": {},
   "outputs": [],
   "source": [
    "passages = []\n",
    "for i, doc in enumerate(df.passage.unique().tolist()):\n",
    "    _id = str(i).zfill(6)\n",
    "    _text = doc\n",
    "    \n",
    "    passages.append([_id, _text])\n",
    "    \n",
    "passages = pd.DataFrame(passages, columns=[\"id\", \"passage_text\"])\n",
    "passages.head()"
   ]
  },
  {
   "cell_type": "code",
   "execution_count": null,
   "metadata": {},
   "outputs": [],
   "source": [
    "bm25 = BM25()\n",
    "bm25.train(passages)"
   ]
  },
  {
   "cell_type": "code",
   "execution_count": null,
   "metadata": {},
   "outputs": [],
   "source": [
    "data = []\n",
    "for index in tqdm(df.index):\n",
    "    query = df[\"query\"][index]\n",
    "    positive_passage = df[\"passage\"][index]\n",
    "    all_passage = bm25.ranking(positive_passage, top_k=8)[\"retrieval_text\"].tolist()\n",
    "    \n",
    "    passages = []\n",
    "    mark = 0\n",
    "    for passage in all_passage:\n",
    "        if positive_passage == passage:\n",
    "            sample = {\n",
    "                \"is_selected\":1,\n",
    "                \"passage_text\":passage\n",
    "            }\n",
    "            mark = 1\n",
    "        else:\n",
    "            sample = {\n",
    "                \"is_selected\":0,\n",
    "                \"passage_text\":passage\n",
    "            }\n",
    "        passages.append(sample)\n",
    "        \n",
    "    if mark == 0:\n",
    "        sample = {\n",
    "            \"is_selected\":1,\n",
    "            \"passage_text\":positive_passage\n",
    "        }\n",
    "        passages.append(sample)\n",
    "    \n",
    "    data.append(\n",
    "        {\n",
    "            \"query\":query,\n",
    "            \"passages\":passages\n",
    "        }\n",
    "    )"
   ]
  },
  {
   "cell_type": "code",
   "execution_count": null,
   "metadata": {},
   "outputs": [],
   "source": [
    "path = \"/home/tuyendv/Desktop/reranker/data/ir/train/squad-train-v2.0-en.json\"\n",
    "save_data(path, data=data)"
   ]
  },
  {
   "attachments": {},
   "cell_type": "markdown",
   "metadata": {},
   "source": [
    "### vi_data"
   ]
  },
  {
   "cell_type": "code",
   "execution_count": null,
   "metadata": {},
   "outputs": [],
   "source": [
    "import pandas as pd\n",
    "import json"
   ]
  },
  {
   "cell_type": "code",
   "execution_count": null,
   "metadata": {},
   "outputs": [],
   "source": [
    "path = \"/home/tuyendv/Desktop/reranker/data/raw/vi_data.json\"\n",
    "df = pd.read_json(path)\n",
    "df.head()"
   ]
  },
  {
   "cell_type": "code",
   "execution_count": null,
   "metadata": {},
   "outputs": [],
   "source": [
    "data = []\n",
    "for index in df.index:\n",
    "    query = df[\"question\"][index]\n",
    "    positive = df[\"positive_sample\"][index]\n",
    "    negative_samples = df[\"negative_samples\"][index]\n",
    "    \n",
    "    passages = []\n",
    "    \n",
    "    passages.append(\n",
    "        {\n",
    "            \"passage_text\":positive,\n",
    "            \"is_selected\":1\n",
    "        }\n",
    "    )\n",
    "    \n",
    "    for negative in negative_samples:\n",
    "        passages.append(\n",
    "            {\n",
    "                \"passage_text\":negative,\n",
    "                \"is_selected\":0\n",
    "            }\n",
    "        )\n",
    "        \n",
    "    data.append(\n",
    "        {\n",
    "            \"query\":query,\n",
    "            \"passages\":passages\n",
    "        }\n",
    "    )"
   ]
  },
  {
   "cell_type": "code",
   "execution_count": null,
   "metadata": {},
   "outputs": [],
   "source": [
    "def save_data(path, data):\n",
    "    with open(path, \"w\", encoding=\"utf-8\") as f:\n",
    "        for sample in data:\n",
    "            json_obj = json.dumps(sample, ensure_ascii=False)\n",
    "            f.write(json_obj+\"\\n\")\n",
    "\n",
    "path=\"/home/tuyendv/Desktop/reranker/data/ir/vi_data.json\"\n",
    "save_data(path, data)"
   ]
  },
  {
   "attachments": {},
   "cell_type": "markdown",
   "metadata": {},
   "source": [
    "### v1"
   ]
  },
  {
   "cell_type": "code",
   "execution_count": null,
   "metadata": {},
   "outputs": [],
   "source": [
    "import json"
   ]
  },
  {
   "cell_type": "code",
   "execution_count": null,
   "metadata": {},
   "outputs": [],
   "source": [
    "path = \"/home/tuyendv/Desktop/reranker/data/ir/train/ms-macro-train_v1.1.json\"\n",
    "\n",
    "data = []\n",
    "with open(path, \"r\", encoding=\"utf-8\") as f:\n",
    "    for line in f.readlines():\n",
    "        line = json.loads(line.strip())\n",
    "        passages = [\n",
    "            {\n",
    "                \"passage_text\":i[\"passage_text\"],\n",
    "                \"is_selected\":i[\"is_selected\"]\n",
    "                } for i in line[\"passages\"]\n",
    "            ]\n",
    "        data.append(\n",
    "            {\n",
    "                \"query\":line[\"query\"],\n",
    "                \"passages\":passages\n",
    "            }\n",
    "        )"
   ]
  },
  {
   "cell_type": "code",
   "execution_count": null,
   "metadata": {},
   "outputs": [],
   "source": [
    "def save_data(path, data):\n",
    "    with open(path, \"w\", encoding=\"utf-8\") as f:\n",
    "        for sample in data:\n",
    "            json_obj = json.dumps(sample, ensure_ascii=False)\n",
    "            f.write(json_obj+\"\\n\")\n",
    "\n",
    "path = \"/home/tuyendv/Desktop/reranker/data/ir/train/ms-macro-train_v1.1.json\"\n",
    "save_data(path, data[0:30000])"
   ]
  },
  {
   "attachments": {},
   "cell_type": "markdown",
   "metadata": {},
   "source": [
    "### process data"
   ]
  },
  {
   "cell_type": "code",
   "execution_count": 1,
   "metadata": {},
   "outputs": [
    {
     "name": "stdout",
     "output_type": "stream",
     "text": [
      "/home/tuyendv/Desktop/reranker\n"
     ]
    }
   ],
   "source": [
    "%cd /home/tuyendv/Desktop/reranker/\n",
    "import json\n",
    "import pandas as pd\n",
    "from utils import load_file, load_data"
   ]
  },
  {
   "cell_type": "code",
   "execution_count": 2,
   "metadata": {},
   "outputs": [],
   "source": [
    "path = '/home/tuyendv/Desktop/mbf_ir/data/qa_data/test'\n",
    "data = load_data(path)"
   ]
  },
  {
   "cell_type": "code",
   "execution_count": 3,
   "metadata": {},
   "outputs": [
    {
     "data": {
      "text/html": [
       "<div>\n",
       "<style scoped>\n",
       "    .dataframe tbody tr th:only-of-type {\n",
       "        vertical-align: middle;\n",
       "    }\n",
       "\n",
       "    .dataframe tbody tr th {\n",
       "        vertical-align: top;\n",
       "    }\n",
       "\n",
       "    .dataframe thead th {\n",
       "        text-align: right;\n",
       "    }\n",
       "</style>\n",
       "<table border=\"1\" class=\"dataframe\">\n",
       "  <thead>\n",
       "    <tr style=\"text-align: right;\">\n",
       "      <th></th>\n",
       "      <th>0</th>\n",
       "    </tr>\n",
       "  </thead>\n",
       "  <tbody>\n",
       "    <tr>\n",
       "      <th>0</th>\n",
       "      <td>{\"query\": \" Tập đoàn Vingroup được thành lập v...</td>\n",
       "    </tr>\n",
       "    <tr>\n",
       "      <th>1</th>\n",
       "      <td>{\"query\": \" Tiền thân của Vingroup là công ty ...</td>\n",
       "    </tr>\n",
       "    <tr>\n",
       "      <th>2</th>\n",
       "      <td>{\"query\": \" Thương hiệu mỳ của Vingroup được m...</td>\n",
       "    </tr>\n",
       "    <tr>\n",
       "      <th>3</th>\n",
       "      <td>{\"query\": \" Công ty cổ phần Vinpearl và công t...</td>\n",
       "    </tr>\n",
       "    <tr>\n",
       "      <th>4</th>\n",
       "      <td>{\"query\": \" Cổ phiếu Vingroup phát hành thêm c...</td>\n",
       "    </tr>\n",
       "  </tbody>\n",
       "</table>\n",
       "</div>"
      ],
      "text/plain": [
       "                                                   0\n",
       "0  {\"query\": \" Tập đoàn Vingroup được thành lập v...\n",
       "1  {\"query\": \" Tiền thân của Vingroup là công ty ...\n",
       "2  {\"query\": \" Thương hiệu mỳ của Vingroup được m...\n",
       "3  {\"query\": \" Công ty cổ phần Vinpearl và công t...\n",
       "4  {\"query\": \" Cổ phiếu Vingroup phát hành thêm c..."
      ]
     },
     "execution_count": 3,
     "metadata": {},
     "output_type": "execute_result"
    }
   ],
   "source": [
    "df = pd.DataFrame(data)\n",
    "df.head()"
   ]
  },
  {
   "cell_type": "code",
   "execution_count": 4,
   "metadata": {},
   "outputs": [
    {
     "ename": "KeyError",
     "evalue": "'query'",
     "output_type": "error",
     "traceback": [
      "\u001b[0;31m---------------------------------------------------------------------------\u001b[0m",
      "\u001b[0;31mKeyError\u001b[0m                                  Traceback (most recent call last)",
      "Cell \u001b[0;32mIn[4], line 12\u001b[0m\n\u001b[1;32m      8\u001b[0m         lengths\u001b[39m.\u001b[39mappend(\u001b[39mlen\u001b[39m(tmp\u001b[39m.\u001b[39msplit()) \u001b[39m+\u001b[39m query_length)\n\u001b[1;32m     10\u001b[0m     \u001b[39mreturn\u001b[39;00m lengths\n\u001b[0;32m---> 12\u001b[0m df[\u001b[39m\"\u001b[39m\u001b[39mlength\u001b[39m\u001b[39m\"\u001b[39m] \u001b[39m=\u001b[39m df\u001b[39m.\u001b[39;49mapply(\u001b[39mlambda\u001b[39;49;00m x: get_length(x[\u001b[39m\"\u001b[39;49m\u001b[39mquery\u001b[39;49m\u001b[39m\"\u001b[39;49m], x[\u001b[39m\"\u001b[39;49m\u001b[39mpassages\u001b[39;49m\u001b[39m\"\u001b[39;49m]), axis\u001b[39m=\u001b[39;49m\u001b[39m1\u001b[39;49m)\n",
      "File \u001b[0;32m~/miniconda3/envs/dl/lib/python3.8/site-packages/pandas/core/frame.py:9568\u001b[0m, in \u001b[0;36mDataFrame.apply\u001b[0;34m(self, func, axis, raw, result_type, args, **kwargs)\u001b[0m\n\u001b[1;32m   9557\u001b[0m \u001b[39mfrom\u001b[39;00m \u001b[39mpandas\u001b[39;00m\u001b[39m.\u001b[39;00m\u001b[39mcore\u001b[39;00m\u001b[39m.\u001b[39;00m\u001b[39mapply\u001b[39;00m \u001b[39mimport\u001b[39;00m frame_apply\n\u001b[1;32m   9559\u001b[0m op \u001b[39m=\u001b[39m frame_apply(\n\u001b[1;32m   9560\u001b[0m     \u001b[39mself\u001b[39m,\n\u001b[1;32m   9561\u001b[0m     func\u001b[39m=\u001b[39mfunc,\n\u001b[0;32m   (...)\u001b[0m\n\u001b[1;32m   9566\u001b[0m     kwargs\u001b[39m=\u001b[39mkwargs,\n\u001b[1;32m   9567\u001b[0m )\n\u001b[0;32m-> 9568\u001b[0m \u001b[39mreturn\u001b[39;00m op\u001b[39m.\u001b[39;49mapply()\u001b[39m.\u001b[39m__finalize__(\u001b[39mself\u001b[39m, method\u001b[39m=\u001b[39m\u001b[39m\"\u001b[39m\u001b[39mapply\u001b[39m\u001b[39m\"\u001b[39m)\n",
      "File \u001b[0;32m~/miniconda3/envs/dl/lib/python3.8/site-packages/pandas/core/apply.py:764\u001b[0m, in \u001b[0;36mFrameApply.apply\u001b[0;34m(self)\u001b[0m\n\u001b[1;32m    761\u001b[0m \u001b[39melif\u001b[39;00m \u001b[39mself\u001b[39m\u001b[39m.\u001b[39mraw:\n\u001b[1;32m    762\u001b[0m     \u001b[39mreturn\u001b[39;00m \u001b[39mself\u001b[39m\u001b[39m.\u001b[39mapply_raw()\n\u001b[0;32m--> 764\u001b[0m \u001b[39mreturn\u001b[39;00m \u001b[39mself\u001b[39;49m\u001b[39m.\u001b[39;49mapply_standard()\n",
      "File \u001b[0;32m~/miniconda3/envs/dl/lib/python3.8/site-packages/pandas/core/apply.py:891\u001b[0m, in \u001b[0;36mFrameApply.apply_standard\u001b[0;34m(self)\u001b[0m\n\u001b[1;32m    890\u001b[0m \u001b[39mdef\u001b[39;00m \u001b[39mapply_standard\u001b[39m(\u001b[39mself\u001b[39m):\n\u001b[0;32m--> 891\u001b[0m     results, res_index \u001b[39m=\u001b[39m \u001b[39mself\u001b[39;49m\u001b[39m.\u001b[39;49mapply_series_generator()\n\u001b[1;32m    893\u001b[0m     \u001b[39m# wrap results\u001b[39;00m\n\u001b[1;32m    894\u001b[0m     \u001b[39mreturn\u001b[39;00m \u001b[39mself\u001b[39m\u001b[39m.\u001b[39mwrap_results(results, res_index)\n",
      "File \u001b[0;32m~/miniconda3/envs/dl/lib/python3.8/site-packages/pandas/core/apply.py:907\u001b[0m, in \u001b[0;36mFrameApply.apply_series_generator\u001b[0;34m(self)\u001b[0m\n\u001b[1;32m    904\u001b[0m \u001b[39mwith\u001b[39;00m option_context(\u001b[39m\"\u001b[39m\u001b[39mmode.chained_assignment\u001b[39m\u001b[39m\"\u001b[39m, \u001b[39mNone\u001b[39;00m):\n\u001b[1;32m    905\u001b[0m     \u001b[39mfor\u001b[39;00m i, v \u001b[39min\u001b[39;00m \u001b[39menumerate\u001b[39m(series_gen):\n\u001b[1;32m    906\u001b[0m         \u001b[39m# ignore SettingWithCopy here in case the user mutates\u001b[39;00m\n\u001b[0;32m--> 907\u001b[0m         results[i] \u001b[39m=\u001b[39m \u001b[39mself\u001b[39;49m\u001b[39m.\u001b[39;49mf(v)\n\u001b[1;32m    908\u001b[0m         \u001b[39mif\u001b[39;00m \u001b[39misinstance\u001b[39m(results[i], ABCSeries):\n\u001b[1;32m    909\u001b[0m             \u001b[39m# If we have a view on v, we need to make a copy because\u001b[39;00m\n\u001b[1;32m    910\u001b[0m             \u001b[39m#  series_generator will swap out the underlying data\u001b[39;00m\n\u001b[1;32m    911\u001b[0m             results[i] \u001b[39m=\u001b[39m results[i]\u001b[39m.\u001b[39mcopy(deep\u001b[39m=\u001b[39m\u001b[39mFalse\u001b[39;00m)\n",
      "Cell \u001b[0;32mIn[4], line 12\u001b[0m, in \u001b[0;36m<lambda>\u001b[0;34m(x)\u001b[0m\n\u001b[1;32m      8\u001b[0m         lengths\u001b[39m.\u001b[39mappend(\u001b[39mlen\u001b[39m(tmp\u001b[39m.\u001b[39msplit()) \u001b[39m+\u001b[39m query_length)\n\u001b[1;32m     10\u001b[0m     \u001b[39mreturn\u001b[39;00m lengths\n\u001b[0;32m---> 12\u001b[0m df[\u001b[39m\"\u001b[39m\u001b[39mlength\u001b[39m\u001b[39m\"\u001b[39m] \u001b[39m=\u001b[39m df\u001b[39m.\u001b[39mapply(\u001b[39mlambda\u001b[39;00m x: get_length(x[\u001b[39m\"\u001b[39;49m\u001b[39mquery\u001b[39;49m\u001b[39m\"\u001b[39;49m], x[\u001b[39m\"\u001b[39m\u001b[39mpassages\u001b[39m\u001b[39m\"\u001b[39m]), axis\u001b[39m=\u001b[39m\u001b[39m1\u001b[39m)\n",
      "File \u001b[0;32m~/miniconda3/envs/dl/lib/python3.8/site-packages/pandas/core/series.py:981\u001b[0m, in \u001b[0;36mSeries.__getitem__\u001b[0;34m(self, key)\u001b[0m\n\u001b[1;32m    978\u001b[0m     \u001b[39mreturn\u001b[39;00m \u001b[39mself\u001b[39m\u001b[39m.\u001b[39m_values[key]\n\u001b[1;32m    980\u001b[0m \u001b[39melif\u001b[39;00m key_is_scalar:\n\u001b[0;32m--> 981\u001b[0m     \u001b[39mreturn\u001b[39;00m \u001b[39mself\u001b[39;49m\u001b[39m.\u001b[39;49m_get_value(key)\n\u001b[1;32m    983\u001b[0m \u001b[39mif\u001b[39;00m is_hashable(key):\n\u001b[1;32m    984\u001b[0m     \u001b[39m# Otherwise index.get_value will raise InvalidIndexError\u001b[39;00m\n\u001b[1;32m    985\u001b[0m     \u001b[39mtry\u001b[39;00m:\n\u001b[1;32m    986\u001b[0m         \u001b[39m# For labels that don't resolve as scalars like tuples and frozensets\u001b[39;00m\n",
      "File \u001b[0;32m~/miniconda3/envs/dl/lib/python3.8/site-packages/pandas/core/series.py:1089\u001b[0m, in \u001b[0;36mSeries._get_value\u001b[0;34m(self, label, takeable)\u001b[0m\n\u001b[1;32m   1086\u001b[0m     \u001b[39mreturn\u001b[39;00m \u001b[39mself\u001b[39m\u001b[39m.\u001b[39m_values[label]\n\u001b[1;32m   1088\u001b[0m \u001b[39m# Similar to Index.get_value, but we do not fall back to positional\u001b[39;00m\n\u001b[0;32m-> 1089\u001b[0m loc \u001b[39m=\u001b[39m \u001b[39mself\u001b[39;49m\u001b[39m.\u001b[39;49mindex\u001b[39m.\u001b[39;49mget_loc(label)\n\u001b[1;32m   1090\u001b[0m \u001b[39mreturn\u001b[39;00m \u001b[39mself\u001b[39m\u001b[39m.\u001b[39mindex\u001b[39m.\u001b[39m_get_values_for_loc(\u001b[39mself\u001b[39m, loc, label)\n",
      "File \u001b[0;32m~/miniconda3/envs/dl/lib/python3.8/site-packages/pandas/core/indexes/range.py:395\u001b[0m, in \u001b[0;36mRangeIndex.get_loc\u001b[0;34m(self, key, method, tolerance)\u001b[0m\n\u001b[1;32m    393\u001b[0m             \u001b[39mraise\u001b[39;00m \u001b[39mKeyError\u001b[39;00m(key) \u001b[39mfrom\u001b[39;00m \u001b[39merr\u001b[39;00m\n\u001b[1;32m    394\u001b[0m     \u001b[39mself\u001b[39m\u001b[39m.\u001b[39m_check_indexing_error(key)\n\u001b[0;32m--> 395\u001b[0m     \u001b[39mraise\u001b[39;00m \u001b[39mKeyError\u001b[39;00m(key)\n\u001b[1;32m    396\u001b[0m \u001b[39mreturn\u001b[39;00m \u001b[39msuper\u001b[39m()\u001b[39m.\u001b[39mget_loc(key, method\u001b[39m=\u001b[39mmethod, tolerance\u001b[39m=\u001b[39mtolerance)\n",
      "\u001b[0;31mKeyError\u001b[0m: 'query'"
     ]
    }
   ],
   "source": [
    "def get_length(query, passages):\n",
    "    query_length = len(query.split())\n",
    "    \n",
    "    lengths = []\n",
    "    for pa in passages:\n",
    "        tmp = pa[\"passage_text\"]\n",
    "        \n",
    "        lengths.append(len(tmp.split()) + query_length)\n",
    "        \n",
    "    return lengths\n",
    "\n",
    "df[\"length\"] = df.apply(lambda x: get_length(x[\"query\"], x[\"passages\"]), axis=1)"
   ]
  },
  {
   "cell_type": "code",
   "execution_count": null,
   "metadata": {},
   "outputs": [],
   "source": [
    "df[\"num_pass\"] = df.passages.apply(lambda x: len(x))\n",
    "df.head()"
   ]
  },
  {
   "cell_type": "code",
   "execution_count": null,
   "metadata": {},
   "outputs": [],
   "source": [
    "lengths = [i for j in df.length.tolist() for i in j]\n",
    "pd.DataFrame(lengths, columns=[\"lengths\"]).lengths.hist(bins=100)"
   ]
  },
  {
   "attachments": {},
   "cell_type": "markdown",
   "metadata": {},
   "source": [
    "### temp"
   ]
  },
  {
   "cell_type": "code",
   "execution_count": 3,
   "metadata": {},
   "outputs": [],
   "source": [
    "import os \n",
    "from glob import glob\n",
    "import json\n",
    "import pandas as pd\n",
    "import random"
   ]
  },
  {
   "cell_type": "code",
   "execution_count": 4,
   "metadata": {},
   "outputs": [],
   "source": [
    "# def load_file(path):\n",
    "#     with open(path, \"r\", encoding=\"utf-8\") as f:\n",
    "#         data = []\n",
    "#         for line in f.readlines():\n",
    "#             json_obj = json.loads(line)\n",
    "#             data.append(json_obj)\n",
    "#     return data\n",
    "\n",
    "def load_file(path, max_context=7):\n",
    "    with open(path, \"r\", encoding=\"utf-8\") as f:\n",
    "        data = []\n",
    "        for line in f.readlines():\n",
    "            json_obj = json.loads(line.strip())\n",
    "            query = json_obj[\"query\"]\n",
    "            passages = []\n",
    "            mark, count = 0, 0\n",
    "            \n",
    "            for passage in json_obj[\"passages\"]:\n",
    "                if count > max_context:\n",
    "                    break\n",
    "                if passage[\"is_selected\"] == 1:\n",
    "                    if mark == 1:\n",
    "                        continue\n",
    "                    passages.append(passage)\n",
    "                    mark = 1\n",
    "                else:\n",
    "                    if len(passages) == max_context and mark == 0:\n",
    "                        continue\n",
    "                    passages.append(passage)\n",
    "                count+=1\n",
    "                                \n",
    "            random.shuffle(passages)\n",
    "                \n",
    "            if mark == 1:\n",
    "                sample = {\n",
    "                    \"query\":query,\n",
    "                    \"passages\":passages\n",
    "                }\n",
    "                # sample = json.dumps(sample, ensure_ascii=False)\n",
    "                data.append(sample)\n",
    "    return data\n",
    "\n",
    "def save_data(path, data):\n",
    "    with open(path, \"w\", encoding=\"utf-8\") as f:\n",
    "        for sample in data:\n",
    "            json_obj = json.dumps(sample, ensure_ascii=False)\n",
    "            f.write(json_obj+\"\\n\")\n",
    "\n",
    "def load_data(path):\n",
    "    data = []\n",
    "    for _file in glob(path+\"/*.json\"):\n",
    "        data += load_file(_file)\n",
    "      \n",
    "    return data\n"
   ]
  },
  {
   "cell_type": "code",
   "execution_count": 5,
   "metadata": {},
   "outputs": [
    {
     "data": {
      "text/plain": [
       "322925"
      ]
     },
     "execution_count": 5,
     "metadata": {},
     "output_type": "execute_result"
    }
   ],
   "source": [
    "path = \"/home/tuyendv/Desktop/mbf_ir/data/qa_data/train\"\n",
    "data = load_data(path)\n",
    "len(data)"
   ]
  },
  {
   "cell_type": "code",
   "execution_count": 6,
   "metadata": {},
   "outputs": [
    {
     "data": {
      "text/html": [
       "<div>\n",
       "<style scoped>\n",
       "    .dataframe tbody tr th:only-of-type {\n",
       "        vertical-align: middle;\n",
       "    }\n",
       "\n",
       "    .dataframe tbody tr th {\n",
       "        vertical-align: top;\n",
       "    }\n",
       "\n",
       "    .dataframe thead th {\n",
       "        text-align: right;\n",
       "    }\n",
       "</style>\n",
       "<table border=\"1\" class=\"dataframe\">\n",
       "  <thead>\n",
       "    <tr style=\"text-align: right;\">\n",
       "      <th></th>\n",
       "      <th>query</th>\n",
       "      <th>passages</th>\n",
       "    </tr>\n",
       "  </thead>\n",
       "  <tbody>\n",
       "    <tr>\n",
       "      <th>0</th>\n",
       "      <td>Ở thành phố nào có nhiều người Trung Quốc sống...</td>\n",
       "      <td>[{'is_selected': 1, 'passage_text': 'Khoảng đầ...</td>\n",
       "    </tr>\n",
       "    <tr>\n",
       "      <th>1</th>\n",
       "      <td>The amount of red in mandrill males is directl...</td>\n",
       "      <td>[{'is_selected': 0, 'passage_text': '1900s. Sp...</td>\n",
       "    </tr>\n",
       "    <tr>\n",
       "      <th>2</th>\n",
       "      <td>how many years in prison did wesley snipes get</td>\n",
       "      <td>[{'passage_text': 'CNN reported: “Actor Wesley...</td>\n",
       "    </tr>\n",
       "    <tr>\n",
       "      <th>3</th>\n",
       "      <td>which neurotransmitter is affected by caffeine</td>\n",
       "      <td>[{'passage_text': 'Caffeine achieves many of i...</td>\n",
       "    </tr>\n",
       "    <tr>\n",
       "      <th>4</th>\n",
       "      <td>What was the date on the attack of Pearl Harbor?</td>\n",
       "      <td>[{'is_selected': 1, 'passage_text': 'Before Wo...</td>\n",
       "    </tr>\n",
       "  </tbody>\n",
       "</table>\n",
       "</div>"
      ],
      "text/plain": [
       "                                               query  \\\n",
       "0  Ở thành phố nào có nhiều người Trung Quốc sống...   \n",
       "1  The amount of red in mandrill males is directl...   \n",
       "2     how many years in prison did wesley snipes get   \n",
       "3     which neurotransmitter is affected by caffeine   \n",
       "4   What was the date on the attack of Pearl Harbor?   \n",
       "\n",
       "                                            passages  \n",
       "0  [{'is_selected': 1, 'passage_text': 'Khoảng đầ...  \n",
       "1  [{'is_selected': 0, 'passage_text': '1900s. Sp...  \n",
       "2  [{'passage_text': 'CNN reported: “Actor Wesley...  \n",
       "3  [{'passage_text': 'Caffeine achieves many of i...  \n",
       "4  [{'is_selected': 1, 'passage_text': 'Before Wo...  "
      ]
     },
     "execution_count": 6,
     "metadata": {},
     "output_type": "execute_result"
    }
   ],
   "source": [
    "data= pd.DataFrame(data)\n",
    "data.head()"
   ]
  },
  {
   "cell_type": "code",
   "execution_count": 7,
   "metadata": {},
   "outputs": [],
   "source": [
    "def get_length(query, passages):\n",
    "    query_length = len(query.split())\n",
    "    \n",
    "    lengths = []\n",
    "    for pa in passages:\n",
    "        tmp = pa[\"passage_text\"]\n",
    "        \n",
    "        lengths.append(len(tmp.split()) + query_length)\n",
    "        \n",
    "    return lengths\n",
    "\n",
    "def get_num_positive(passages):\n",
    "    count = 0\n",
    "    for passage in passages:\n",
    "        if passage[\"is_selected\"] == 1:\n",
    "            count += 1\n",
    "            \n",
    "    return count\n",
    "\n",
    "data[\"length\"] = data.apply(lambda x: get_length(x[\"query\"], x[\"passages\"]), axis=1)\n",
    "data[\"num_passage\"] = data.passages.apply(lambda x: len(x))\n",
    "data[\"num_positive_passage\"] = data.passages.apply(lambda x: get_num_positive(x))"
   ]
  },
  {
   "cell_type": "code",
   "execution_count": 8,
   "metadata": {},
   "outputs": [
    {
     "data": {
      "text/plain": [
       "<matplotlib.axes._subplots.AxesSubplot at 0x7f89638dc220>"
      ]
     },
     "execution_count": 8,
     "metadata": {},
     "output_type": "execute_result"
    },
    {
     "data": {
      "image/png": "[encoded data removed]",
      "text/plain": [
       "<Figure size 640x480 with 1 Axes>"
      ]
     },
     "metadata": {},
     "output_type": "display_data"
    }
   ],
   "source": [
    "data[\"num_passage\"].hist()"
   ]
  },
  {
   "cell_type": "code",
   "execution_count": 10,
   "metadata": {},
   "outputs": [
    {
     "data": {
      "text/plain": [
       "<matplotlib.axes._subplots.AxesSubplot at 0x7f89576e9490>"
      ]
     },
     "execution_count": 10,
     "metadata": {},
     "output_type": "execute_result"
    },
    {
     "data": {
      "image/png": "[encoded data removed]",
      "text/plain": [
       "<Figure size 640x480 with 1 Axes>"
      ]
     },
     "metadata": {},
     "output_type": "display_data"
    }
   ],
   "source": [
    "lengths = [i for j in data.length.tolist() for i in j]\n",
    "pd.DataFrame(lengths, columns=[\"lengths\"]).lengths.hist(bins=100)"
   ]
  },
  {
   "cell_type": "code",
   "execution_count": 11,
   "metadata": {},
   "outputs": [
    {
     "data": {
      "text/plain": [
       "<matplotlib.axes._subplots.AxesSubplot at 0x7f89573237c0>"
      ]
     },
     "execution_count": 11,
     "metadata": {},
     "output_type": "execute_result"
    },
    {
     "data": {
      "image/png": "[encoded data removed]",
      "text/plain": [
       "<Figure size 640x480 with 1 Axes>"
      ]
     },
     "metadata": {},
     "output_type": "display_data"
    }
   ],
   "source": [
    "lengths = [i for j in data.length.tolist() for i in j]\n",
    "pd.DataFrame(lengths, columns=[\"lengths\"]).lengths.hist(bins=100)"
   ]
  },
  {
   "cell_type": "code",
   "execution_count": null,
   "metadata": {},
   "outputs": [],
   "source": []
  }
 ],
 "metadata": {
  "kernelspec": {
   "display_name": "dl",
   "language": "python",
   "name": "python3"
  },
  "language_info": {
   "codemirror_mode": {
    "name": "ipython",
    "version": 3
   },
   "file_extension": ".py",
   "mimetype": "text/x-python",
   "name": "python",
   "nbconvert_exporter": "python",
   "pygments_lexer": "ipython3",
   "version": "3.8.16"
  },
  "orig_nbformat": 4
 },
 "nbformat": 4,
 "nbformat_minor": 2
}
