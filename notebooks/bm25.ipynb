{
 "cells": [
  {
   "cell_type": "code",
   "execution_count": 26,
   "metadata": {},
   "outputs": [
    {
     "name": "stdout",
     "output_type": "stream",
     "text": [
      "/home/tuyendv/Desktop/reranker\n"
     ]
    }
   ],
   "source": [
    "%cd /home/tuyendv/Desktop/reranker\n",
    "import json\n",
    "import os\n",
    "from glob import glob\n",
    "from tqdm import tqdm\n",
    "from underthesea import sent_tokenize\n",
    "from utils import norm_text\n",
    "import pandas as pd"
   ]
  },
  {
   "cell_type": "code",
   "execution_count": 22,
   "metadata": {},
   "outputs": [],
   "source": [
    "def split_doc_in_sent_level(doc, max_length=256, max_overlap_length=128):\n",
    "    chunks = []\n",
    "    current_chunk = \"\"\n",
    "    current_length = 0\n",
    "    \n",
    "    index = 0\n",
    "    remain_overlap_length = max_overlap_length\n",
    "    while index < len(doc):\n",
    "        sent = doc[index]\n",
    "        if current_length + len(sent.split(\" \")) > max_length:\n",
    "            chunks.append(current_chunk)\n",
    "            while len(doc[index].split(\" \")) < remain_overlap_length:\n",
    "                remain_overlap_length -=len(doc[index].split(\" \"))\n",
    "                if index == 0:\n",
    "                    break\n",
    "                index -= 1\n",
    "            index += 1\n",
    "            if index == len(doc):\n",
    "                break\n",
    "            current_chunk = doc[index]\n",
    "            current_length = len(current_chunk.split(\" \"))\n",
    "            remain_overlap_length = max_overlap_length\n",
    "        else:\n",
    "            current_chunk = current_chunk + \" \" + sent\n",
    "            current_length = len(current_chunk.split(\" \"))\n",
    "        \n",
    "        index += 1\n",
    "    chunks.append(current_chunk)\n",
    "    \n",
    "    return chunks"
   ]
  },
  {
   "cell_type": "code",
   "execution_count": 15,
   "metadata": {},
   "outputs": [],
   "source": [
    "data_dir = \"docs/raws/*.json\"\n",
    "docs = []\n",
    "for _file in glob(data_dir):\n",
    "    data = json.load(open(_file, \"r\", encoding=\"utf-8\"))\n",
    "    content = data[\"content\"]\n",
    "    \n",
    "    docs.append(sent_tokenize(content))"
   ]
  },
  {
   "cell_type": "code",
   "execution_count": 23,
   "metadata": {},
   "outputs": [],
   "source": [
    "chunks = []\n",
    "for doc in docs:\n",
    "    chunk = split_doc_in_sent_level(doc)\n",
    "    chunks += chunk"
   ]
  },
  {
   "cell_type": "code",
   "execution_count": 27,
   "metadata": {},
   "outputs": [
    {
     "data": {
      "text/html": [
       "<div>\n",
       "<style scoped>\n",
       "    .dataframe tbody tr th:only-of-type {\n",
       "        vertical-align: middle;\n",
       "    }\n",
       "\n",
       "    .dataframe tbody tr th {\n",
       "        vertical-align: top;\n",
       "    }\n",
       "\n",
       "    .dataframe thead th {\n",
       "        text-align: right;\n",
       "    }\n",
       "</style>\n",
       "<table border=\"1\" class=\"dataframe\">\n",
       "  <thead>\n",
       "    <tr style=\"text-align: right;\">\n",
       "      <th></th>\n",
       "      <th>passage_text</th>\n",
       "    </tr>\n",
       "  </thead>\n",
       "  <tbody>\n",
       "    <tr>\n",
       "      <th>0</th>\n",
       "      <td>\"Đây là khoảnh khắc đặc biệt\", Haaland nói tạ...</td>\n",
       "    </tr>\n",
       "    <tr>\n",
       "      <th>1</th>\n",
       "      <td>Tôi thực sự thích nó và có rất nhiều cầu thủ g...</td>\n",
       "    </tr>\n",
       "    <tr>\n",
       "      <th>2</th>\n",
       "      <td>Chúng tôi tập trung và đạt được điều mong muốn...</td>\n",
       "    </tr>\n",
       "    <tr>\n",
       "      <th>3</th>\n",
       "      <td>Tại giải cờ vua Đại kiện tướng quốc tế 2023 ở...</td>\n",
       "    </tr>\n",
       "    <tr>\n",
       "      <th>4</th>\n",
       "      <td>12 GM trước đó lần lượt là Đào Thiên Hải, Từ H...</td>\n",
       "    </tr>\n",
       "  </tbody>\n",
       "</table>\n",
       "</div>"
      ],
      "text/plain": [
       "                                        passage_text\n",
       "0   \"Đây là khoảnh khắc đặc biệt\", Haaland nói tạ...\n",
       "1  Tôi thực sự thích nó và có rất nhiều cầu thủ g...\n",
       "2  Chúng tôi tập trung và đạt được điều mong muốn...\n",
       "3   Tại giải cờ vua Đại kiện tướng quốc tế 2023 ở...\n",
       "4  12 GM trước đó lần lượt là Đào Thiên Hải, Từ H..."
      ]
     },
     "execution_count": 27,
     "metadata": {},
     "output_type": "execute_result"
    }
   ],
   "source": [
    "passages = pd.DataFrame(chunks, columns=[\"passage_text\"])\n",
    "passages.head()"
   ]
  },
  {
   "cell_type": "code",
   "execution_count": 28,
   "metadata": {},
   "outputs": [],
   "source": [
    "passages.to_csv(\"/home/tuyendv/Desktop/reranker/docs/processed/passage.txt\")"
   ]
  },
  {
   "attachments": {},
   "cell_type": "markdown",
   "metadata": {},
   "source": [
    "### train bm25"
   ]
  },
  {
   "cell_type": "code",
   "execution_count": 1,
   "metadata": {},
   "outputs": [
    {
     "name": "stdout",
     "output_type": "stream",
     "text": [
      "/home/tuyendv/Desktop/reranker\n"
     ]
    }
   ],
   "source": [
    "%cd /home/tuyendv/Desktop/reranker\n",
    "import json\n",
    "import os\n",
    "from glob import glob\n",
    "from tqdm import tqdm\n",
    "from underthesea import sent_tokenize\n",
    "from utils import norm_text\n",
    "import pandas as pd\n",
    "from bm25 import BM25"
   ]
  },
  {
   "cell_type": "code",
   "execution_count": 2,
   "metadata": {},
   "outputs": [
    {
     "data": {
      "text/html": [
       "<div>\n",
       "<style scoped>\n",
       "    .dataframe tbody tr th:only-of-type {\n",
       "        vertical-align: middle;\n",
       "    }\n",
       "\n",
       "    .dataframe tbody tr th {\n",
       "        vertical-align: top;\n",
       "    }\n",
       "\n",
       "    .dataframe thead th {\n",
       "        text-align: right;\n",
       "    }\n",
       "</style>\n",
       "<table border=\"1\" class=\"dataframe\">\n",
       "  <thead>\n",
       "    <tr style=\"text-align: right;\">\n",
       "      <th></th>\n",
       "      <th>passage_text</th>\n",
       "    </tr>\n",
       "  </thead>\n",
       "  <tbody>\n",
       "    <tr>\n",
       "      <th>0</th>\n",
       "      <td>\"Đây là khoảnh khắc đặc biệt\", Haaland nói tạ...</td>\n",
       "    </tr>\n",
       "    <tr>\n",
       "      <th>1</th>\n",
       "      <td>Tôi thực sự thích nó và có rất nhiều cầu thủ g...</td>\n",
       "    </tr>\n",
       "    <tr>\n",
       "      <th>2</th>\n",
       "      <td>Chúng tôi tập trung và đạt được điều mong muốn...</td>\n",
       "    </tr>\n",
       "    <tr>\n",
       "      <th>3</th>\n",
       "      <td>Tại giải cờ vua Đại kiện tướng quốc tế 2023 ở...</td>\n",
       "    </tr>\n",
       "    <tr>\n",
       "      <th>4</th>\n",
       "      <td>12 GM trước đó lần lượt là Đào Thiên Hải, Từ H...</td>\n",
       "    </tr>\n",
       "  </tbody>\n",
       "</table>\n",
       "</div>"
      ],
      "text/plain": [
       "                                        passage_text\n",
       "0   \"Đây là khoảnh khắc đặc biệt\", Haaland nói tạ...\n",
       "1  Tôi thực sự thích nó và có rất nhiều cầu thủ g...\n",
       "2  Chúng tôi tập trung và đạt được điều mong muốn...\n",
       "3   Tại giải cờ vua Đại kiện tướng quốc tế 2023 ở...\n",
       "4  12 GM trước đó lần lượt là Đào Thiên Hải, Từ H..."
      ]
     },
     "execution_count": 2,
     "metadata": {},
     "output_type": "execute_result"
    }
   ],
   "source": [
    "path=\"/home/tuyendv/Desktop/reranker/docs/processed/passage.txt\"\n",
    "passages = pd.read_csv(path, index_col=0)\n",
    "passages.dropna(inplace=True)\n",
    "passages.head()"
   ]
  },
  {
   "cell_type": "code",
   "execution_count": 3,
   "metadata": {},
   "outputs": [],
   "source": [
    "bm25_model = BM25()\n",
    "bm25_model.train(passages)"
   ]
  },
  {
   "cell_type": "code",
   "execution_count": 4,
   "metadata": {},
   "outputs": [],
   "source": [
    "path=\"bm25\"\n",
    "bm25_model.save(path)"
   ]
  },
  {
   "cell_type": "code",
   "execution_count": 6,
   "metadata": {},
   "outputs": [
    {
     "data": {
      "text/plain": [
       "[[11.48076,\n",
       "  ' \"Đây là khoảnh khắc đặc biệt\", Haaland nói tại London tối 25/5, khi nhận giải Cầu thủ hay nhất Ngoại hạng Anh mùa này do Hiệp hội nhà báo bóng đá Anh (FWA) bầu chọn. \"Gia nhập CLB đã ghi rất nhiều bàn và vô địch Ngoại hạng Anh nhiều lần, tôi kỳ vọng sẽ làm được những điều tốt đẹp, nhưng thực sự không ngờ mọi thứ lại tốt như vậy. Đây là mùa giải tuyệt vời và tôi rất vui\".Haaland nhận giải Cầu thủ hay nhất Ngoại hạng Anh mùa 2022-2023 của FWA tối 25/5. Ảnh: mancity.comTiền đạo Na Uy cho biết có nhiều bạn và tận hưởng cuộc sống tại Manchester cả trong và ngoài sân cỏ. \"Chúng tôi đùa rất nhiều, tận hưởng điều đó trong phòng thay đồ và trên sân. Tôi thực sự thích nó và có rất nhiều cầu thủ giỏi trong đội\", Haaland nói thêm.Trong cuộc bầu chọn với hơn 800 thành viên của FWA, Haaland chiến thắng áp đảo với hơn 80% tổng số phiếu bầu - kỷ lục trong lịch sử Ngoại hạng Anh. Xếp sau lần lượt là Bukayo Saka, Martin Odegaard (Arsenal), Kevin de Bruyne (Man City) và Marcus Rashford (Man Utd).Sau khi cập bến Man City với giá 63 triệu USD, Haaland hòa nhập nhanh, ghi 52 bàn qua 51 trận trên mọi đấu trường.'],\n",
       " [10.865417,\n",
       "  'Tiền đạo 22 tuổi được kỳ vọng tiếp tục bùng nổ trong trận chung kết Cup FA gặp Man Utd ngày 3/6 và chung kết Champions League gặp Inter ngày 10/6 để giúp Man City hoàn tất cú ăn ba lịch sử.Đứng sau Haaland ở danh sách Vua phá lưới với 30 bàn, nhưng Kane cũng mang về cho Tottenham 24 điểm. Nếu không có các pha lập công của tiền đạo người Anh, đội bóng thành London sẽ chỉ có 34 thay vì 60 điểm, bằng CLB phải xuống hạng là Leicester.Haaland (phải) và Harry Kane khi Man City thua 0-1 trên sân Tottenham ở Ngoại hạng Anh hôm 5/2. Ảnh: PATrong đó, Kane ghi bàn duy nhất ở các trận thắng Fulham và Man City hồi đầu năm, và tạo khác biệt trước Nottingham Forest, Brighton và Crystal Palace. Bấp chấp phong độ chói sáng của Kane, Tottenham chỉ cán đích thứ tám và sẽ vắng mặt tại Cup châu Âu mùa tới.Báo Anh Sportmail nhận định Kane sẽ rời London hè 2023. Tiền đạo 29 tuổi còn hợp đồng đến tháng 6/2024 và đang trong tầm ngắm của Man Utd và PSG.Xếp thứ ba là Ivan Toney, khi anh mang về cho Brentford 16 điểm với 20 bàn tại Ngoại hạng Anh.'],\n",
       " [10.436162,\n",
       "  ' Trong mùa giải đầu tiên tại sân Etihad, Haaland thi đấu bùng nổ với 52 bàn qua 52 trận trên mọi đấu trường, phá nhiều kỷ lục tại Ngoại hạng Anh và Cup FA. Tuy nhiên, tiền đạo Na Uy chỉ ghi một bàn trong sáu trận gần nhất và tịt ngòi ở ba trận gần nhất gặp Real ở bán kết lượt về Champions League, Brighton tại Ngoại hạng Anh, Man Utd ở chung kết Cup FA.Trong buổi họp báo hôm 9/6 trước chung kết Champions League, Guardiola phủ nhận việc Haaland sa sút phong độ vào thời điểm quan trọng. \"Tôi không ở đây để thảo luận về về tỷ lệ ghi bàn trung bình của Haaland. Nếu bạn nghi ngờ về điều đó, bạn là một người cô đơn\", ông nói với giọng gay gắt. \"Tôi không nghi ngờ gì, ngày mai Haaland sẽ sẵn sàng giúp Man City vô địch Champions League\".HLV Guardiola và Haaland (trái) trong buổi tập của toàn đội Man City làm quen sân Ataturk ngày 9/6. Ảnh: mancity.comKhi được hỏi về những lời khuyên cho những HLV trẻ đầy tham vọng, Guardiola đáp rằng bí quyết cho những thành công trong sự nghiệp của ông là dẫn dắt những cầu thủ đẳng cấp. \"Có Lionel Messi trước kia và Haaland bây giờ. Đó là thành công của tôi. Tôi không đùa đâu\", HLV 52 tuổi nói, đồng thời nhấn mạnh tầm quan trọng của tinh thần đồng đội.'],\n",
       " [10.076107,\n",
       "  'Cũng không thể phủ nhận năng lực của Guardiola khi ông đưa Man City lên một tầm mới trong giai đoạn cuối mùa.Man City lần thứ ba liên tiếp vô địch không bất ngờ bằng việc Chelsea xếp ở nửa sau bảng điểm. Đội bóng của tỷ phú Todd Boehly gây thất vọng nhất, khi đã chi tới gần 700 triệu USD để chiêu mộ cầu thủ trong hai kỳ chuyển nhượng vừa qua, nhưng chỉ đứng vị trí 12 chung cuộc.Chelsea (áo xanh) trong trận hòa Newcastle ở vòng 38 Ngoại hạng Anh ngày 28/5/2023 trên sân Stamford Bridge, London. Ảnh: ReutersChelsea ba lần phải thay HLV mùa này, và chỉ đội xuống hạng như Leeds United mới dính dớp tương tự. Từ Thomas Tuchel đến Graham Potter, Bruno Saltor và Frank Lampard, thành tích của Chelsea ngày càng đi xuống. Họ kết thúc mùa giải chỉ với 38 bàn, chỉ hơn cá nhân Haaland hai bàn.Nếu như Guardiola không giữ chân Haaland ở nhiều trận tại Ngoại hạng Anh, tiền đạo Na Uy đã có thể vượt qua thành tích ghi bàn của Chelsea. Dù sao anh cũng đã phá kỷ lục ghi bàn trong một mùa giải Ngoại hạng Anh, 34 bàn của Andy Cole và Alan Shearer. Hơn nữa, đây mới là mùa đầu tiên của Haaland tại Etihad.Những kỷ lục đó giúp Haaland được chọn làm cầu thủ hay nhất mùa, cũng như cầu thủ trẻ xuất sắc.'],\n",
       " [9.838199,\n",
       "  'Saka cùng 11 mầm non khác được đề nghị các hình thức học bổng toàn phần với CLB để tập luyện, thi đấu tại London Colney - đại bản doanh của Arsenal. Gia đình Saka vui vẻ đồng ý với đề nghị này, và họ cũng không thông qua bất kỳ người đại diện nào, mà chỉ để ông bố Yemi nói chuyện với CLB. \"Là tài năng hàng đầu của Arsenal ở tuổi U15, cậu ấy chắc chắn có nhiều đề nghị từ các CLB khác. Nhưng gia đình của Saka luôn bình tĩnh. Tôi nghĩ đó là một phần quan trọng trong hành trình của Saka. Cậu ấy là đứa trẻ tuyệt vời. Bất cứ khi nào đưa Saka đi xa hoặc ra nước ngoài, chúng tôi đều không có bất kỳ vấn đề gì. Cậu ấy luôn rất khiêm tốn\", Hobbs kể.Với tám năm ăn tập tại Hale End và tốc độ thăng tiến chóng mặt, Saka được xem như hình mẫu về những \"Pháo thủ\" mạnh mẽ mà Arsenal cố gắng tạo ra tại học viện. \"Saka truyền cảm hứng cho tất cả, từ các nhân viên đến các cầu thủ trẻ, để trở nên tốt hơn. Saka truyền cảm hứng không chỉ bằng những gì làm trên sân, mà còn bằng hành vi và những gì cậu ấy làm trong cộng đồng.']]"
      ]
     },
     "execution_count": 6,
     "metadata": {},
     "output_type": "execute_result"
    }
   ],
   "source": [
    "query = \"Haaland nói gì tại London\"\n",
    "bm25_model.search(query=query, topk=5)"
   ]
  },
  {
   "cell_type": "code",
   "execution_count": null,
   "metadata": {},
   "outputs": [],
   "source": []
  }
 ],
 "metadata": {
  "kernelspec": {
   "display_name": "dl",
   "language": "python",
   "name": "python3"
  },
  "language_info": {
   "codemirror_mode": {
    "name": "ipython",
    "version": 3
   },
   "file_extension": ".py",
   "mimetype": "text/x-python",
   "name": "python",
   "nbconvert_exporter": "python",
   "pygments_lexer": "ipython3",
   "version": "3.8.16"
  },
  "orig_nbformat": 4
 },
 "nbformat": 4,
 "nbformat_minor": 2
}
