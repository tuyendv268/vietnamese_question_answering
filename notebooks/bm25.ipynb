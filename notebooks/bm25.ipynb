{
 "cells": [
  {
   "cell_type": "code",
   "execution_count": 5,
   "metadata": {},
   "outputs": [
    {
     "name": "stdout",
     "output_type": "stream",
     "text": [
      "/home/tuyendv/Desktop/mbf_ir\n"
     ]
    }
   ],
   "source": [
    "%cd /home/tuyendv/Desktop/mbf_ir/\n",
    "import json\n",
    "import os\n",
    "from glob import glob\n",
    "from tqdm import tqdm\n",
    "import pandas as pd\n",
    "from underthesea import sent_tokenize"
   ]
  },
  {
   "cell_type": "code",
   "execution_count": 3,
   "metadata": {},
   "outputs": [],
   "source": [
    "def split_sent(sent, max_length=256, max_overlap_length=128):\n",
    "    words = sent.split(\" \")\n",
    "    sents = []\n",
    "    \n",
    "    n = int(len(words)/max_overlap_length) + 1\n",
    "    for i in range(n):\n",
    "        sents.append(\" \".join(words[i*max_overlap_length: i*max_overlap_length + max_length]))\n",
    "        \n",
    "    return sents"
   ]
  },
  {
   "cell_type": "code",
   "execution_count": 4,
   "metadata": {},
   "outputs": [],
   "source": [
    "def split_doc_in_sent_level(doc, max_length=256, max_overlap_length=128):\n",
    "    chunks = []\n",
    "    current_chunk = \"\"\n",
    "    current_length = 0\n",
    "    \n",
    "    index = 0\n",
    "    remain_overlap_length = max_overlap_length\n",
    "    while index < len(doc):\n",
    "        sent = doc[index]\n",
    "        if len(sent.split(\" \")) > max_length:\n",
    "            sents = split_sent(sent, max_length=max_length, max_overlap_length=max_overlap_length)\n",
    "            chunks += sents\n",
    "        elif current_length + len(sent.split(\" \")) > max_length:\n",
    "            chunks.append(current_chunk)\n",
    "            while len(doc[index].split(\" \")) < remain_overlap_length:\n",
    "                remain_overlap_length -=len(doc[index].split(\" \"))\n",
    "                if index == 0:\n",
    "                    break\n",
    "                index -= 1\n",
    "            index += 1\n",
    "            if index == len(doc):\n",
    "                break\n",
    "            current_chunk = doc[index]\n",
    "            current_length = len(current_chunk.split(\" \"))\n",
    "            remain_overlap_length = max_overlap_length\n",
    "        else:\n",
    "            current_chunk = current_chunk + \" \" + sent\n",
    "            current_length = len(current_chunk.split(\" \"))\n",
    "        \n",
    "        index += 1\n",
    "    chunks.append(current_chunk)\n",
    "    \n",
    "    return chunks"
   ]
  },
  {
   "cell_type": "code",
   "execution_count": 6,
   "metadata": {},
   "outputs": [],
   "source": [
    "data_dir = \"/home/tuyendv/Desktop/mbf_ir/data/vnexpress/*.json\"\n",
    "docs = []\n",
    "for _file in glob(data_dir):\n",
    "    data = json.load(open(_file, \"r\", encoding=\"utf-8\"))\n",
    "    content = data[\"content\"]\n",
    "    \n",
    "    docs.append(sent_tokenize(content))"
   ]
  },
  {
   "cell_type": "code",
   "execution_count": 7,
   "metadata": {},
   "outputs": [],
   "source": [
    "chunks = []\n",
    "for doc in docs:\n",
    "    chunk = split_doc_in_sent_level(doc)\n",
    "    chunks += chunk"
   ]
  },
  {
   "cell_type": "code",
   "execution_count": 8,
   "metadata": {},
   "outputs": [
    {
     "data": {
      "text/html": [
       "<div>\n",
       "<style scoped>\n",
       "    .dataframe tbody tr th:only-of-type {\n",
       "        vertical-align: middle;\n",
       "    }\n",
       "\n",
       "    .dataframe tbody tr th {\n",
       "        vertical-align: top;\n",
       "    }\n",
       "\n",
       "    .dataframe thead th {\n",
       "        text-align: right;\n",
       "    }\n",
       "</style>\n",
       "<table border=\"1\" class=\"dataframe\">\n",
       "  <thead>\n",
       "    <tr style=\"text-align: right;\">\n",
       "      <th></th>\n",
       "      <th>passage_text</th>\n",
       "    </tr>\n",
       "  </thead>\n",
       "  <tbody>\n",
       "    <tr>\n",
       "      <th>0</th>\n",
       "      <td>\"Đây là khoảnh khắc đặc biệt\", Haaland nói tạ...</td>\n",
       "    </tr>\n",
       "    <tr>\n",
       "      <th>1</th>\n",
       "      <td>Tôi thực sự thích nó và có rất nhiều cầu thủ g...</td>\n",
       "    </tr>\n",
       "    <tr>\n",
       "      <th>2</th>\n",
       "      <td>Chúng tôi tập trung và đạt được điều mong muốn...</td>\n",
       "    </tr>\n",
       "    <tr>\n",
       "      <th>3</th>\n",
       "      <td>Tại giải cờ vua Đại kiện tướng quốc tế 2023 ở...</td>\n",
       "    </tr>\n",
       "    <tr>\n",
       "      <th>4</th>\n",
       "      <td>12 GM trước đó lần lượt là Đào Thiên Hải, Từ H...</td>\n",
       "    </tr>\n",
       "  </tbody>\n",
       "</table>\n",
       "</div>"
      ],
      "text/plain": [
       "                                        passage_text\n",
       "0   \"Đây là khoảnh khắc đặc biệt\", Haaland nói tạ...\n",
       "1  Tôi thực sự thích nó và có rất nhiều cầu thủ g...\n",
       "2  Chúng tôi tập trung và đạt được điều mong muốn...\n",
       "3   Tại giải cờ vua Đại kiện tướng quốc tế 2023 ở...\n",
       "4  12 GM trước đó lần lượt là Đào Thiên Hải, Từ H..."
      ]
     },
     "execution_count": 8,
     "metadata": {},
     "output_type": "execute_result"
    }
   ],
   "source": [
    "passages = pd.DataFrame(chunks, columns=[\"passage_text\"])\n",
    "passages.head()"
   ]
  },
  {
   "cell_type": "code",
   "execution_count": 12,
   "metadata": {},
   "outputs": [
    {
     "data": {
      "text/plain": [
       "<matplotlib.axes._subplots.AxesSubplot at 0x7f278a977130>"
      ]
     },
     "execution_count": 12,
     "metadata": {},
     "output_type": "execute_result"
    },
    {
     "data": {
      "image/png": "[encoded data removed]",
      "text/plain": [
       "<Figure size 640x480 with 1 Axes>"
      ]
     },
     "metadata": {},
     "output_type": "display_data"
    }
   ],
   "source": [
    "passages[\"length\"] = passages.passage_text.apply(lambda x: len(x.split(\" \")))\n",
    "passages[passages.length!=0][\"length\"].hist(bins=100)"
   ]
  },
  {
   "cell_type": "code",
   "execution_count": 11,
   "metadata": {},
   "outputs": [],
   "source": [
    "passages.to_csv(\"/home/tuyendv/Desktop/mbf_ir/data/vnexpress/passage.txt\")"
   ]
  },
  {
   "attachments": {},
   "cell_type": "markdown",
   "metadata": {},
   "source": [
    "### train bm25"
   ]
  },
  {
   "cell_type": "code",
   "execution_count": 13,
   "metadata": {},
   "outputs": [
    {
     "name": "stdout",
     "output_type": "stream",
     "text": [
      "/home/tuyendv/Desktop/mbf_ir/demo\n"
     ]
    }
   ],
   "source": [
    "%cd /home/tuyendv/Desktop/mbf_ir/demo\n",
    "import json\n",
    "import os\n",
    "from glob import glob\n",
    "from tqdm import tqdm\n",
    "from underthesea import sent_tokenize\n",
    "from utils import norm_text\n",
    "import pandas as pd\n",
    "from bm25 import BM25"
   ]
  },
  {
   "cell_type": "code",
   "execution_count": 14,
   "metadata": {},
   "outputs": [
    {
     "data": {
      "text/html": [
       "<div>\n",
       "<style scoped>\n",
       "    .dataframe tbody tr th:only-of-type {\n",
       "        vertical-align: middle;\n",
       "    }\n",
       "\n",
       "    .dataframe tbody tr th {\n",
       "        vertical-align: top;\n",
       "    }\n",
       "\n",
       "    .dataframe thead th {\n",
       "        text-align: right;\n",
       "    }\n",
       "</style>\n",
       "<table border=\"1\" class=\"dataframe\">\n",
       "  <thead>\n",
       "    <tr style=\"text-align: right;\">\n",
       "      <th></th>\n",
       "      <th>passage_text</th>\n",
       "      <th>length</th>\n",
       "    </tr>\n",
       "  </thead>\n",
       "  <tbody>\n",
       "    <tr>\n",
       "      <th>0</th>\n",
       "      <td>\"Đây là khoảnh khắc đặc biệt\", Haaland nói tạ...</td>\n",
       "      <td>229</td>\n",
       "    </tr>\n",
       "    <tr>\n",
       "      <th>1</th>\n",
       "      <td>Tôi thực sự thích nó và có rất nhiều cầu thủ g...</td>\n",
       "      <td>246</td>\n",
       "    </tr>\n",
       "    <tr>\n",
       "      <th>2</th>\n",
       "      <td>Chúng tôi tập trung và đạt được điều mong muốn...</td>\n",
       "      <td>149</td>\n",
       "    </tr>\n",
       "    <tr>\n",
       "      <th>3</th>\n",
       "      <td>Tại giải cờ vua Đại kiện tướng quốc tế 2023 ở...</td>\n",
       "      <td>256</td>\n",
       "    </tr>\n",
       "    <tr>\n",
       "      <th>4</th>\n",
       "      <td>12 GM trước đó lần lượt là Đào Thiên Hải, Từ H...</td>\n",
       "      <td>136</td>\n",
       "    </tr>\n",
       "  </tbody>\n",
       "</table>\n",
       "</div>"
      ],
      "text/plain": [
       "                                        passage_text  length\n",
       "0   \"Đây là khoảnh khắc đặc biệt\", Haaland nói tạ...     229\n",
       "1  Tôi thực sự thích nó và có rất nhiều cầu thủ g...     246\n",
       "2  Chúng tôi tập trung và đạt được điều mong muốn...     149\n",
       "3   Tại giải cờ vua Đại kiện tướng quốc tế 2023 ở...     256\n",
       "4  12 GM trước đó lần lượt là Đào Thiên Hải, Từ H...     136"
      ]
     },
     "execution_count": 14,
     "metadata": {},
     "output_type": "execute_result"
    }
   ],
   "source": [
    "path=\"/home/tuyendv/Desktop/mbf_ir/data/vnexpress/passage.txt\"\n",
    "passages = pd.read_csv(path, index_col=0)\n",
    "passages.dropna(inplace=True)\n",
    "passages.head()"
   ]
  },
  {
   "cell_type": "code",
   "execution_count": 15,
   "metadata": {},
   "outputs": [],
   "source": [
    "bm25_model = BM25()\n",
    "bm25_model.train(passages)"
   ]
  },
  {
   "cell_type": "code",
   "execution_count": 16,
   "metadata": {},
   "outputs": [],
   "source": [
    "path=\"/home/tuyendv/Desktop/mbf_ir/demo/checkpoints/bm25\"\n",
    "bm25_model.save(path)"
   ]
  },
  {
   "cell_type": "code",
   "execution_count": 21,
   "metadata": {},
   "outputs": [
    {
     "data": {
      "text/plain": [
       "[[27.593296,\n",
       "  ' \"Trên sân, tôi đã nói với đồng đội rằng Inter thiếu nhận thức về việc có thể làm tổn thương Man City\", Acerbi nói trong buổi họp báo tại Coverciano, Italy ngày 12/6. \"Đã có quá nhiều lời bàn tán về việc Man City mạnh thế nào. Nhưng Man City sợ chúng tôi, họ được đánh giá cao hơn và chúng tôi lẽ ra phải tận dụng tối đa điều đó\".Acerbi trong một pha truy cản thành công Haaland ở chung kết Champions League trên sân Ataturk, Istanbul, Thổ Nhĩ Kỳ ngày 10/6. Ảnh: AFPTrước chung kết Champions League mùa 2022-2023, Man City được đánh giá cao hơn hẳn Inter. Thống kê Opta nhận định cơ hội để đại diện Ngoại hạng Anh thắng lên tới 74%, gần gấp ba lần Inter. Danh thủ Xứ Wales Gareth Bale thậm chí dự đoán Man City sẽ thắng 5-0.Nhưng khi vào trận, Inter thi đấu ngang ngửa và thậm chí dứt điểm, tạo cơ hội nhiều hơn Man City. Đại diện Italy cầm bóng 44%, dứt điểm 14 lần với sáu cú trúng đích - so với 7 và 4 của đối thủ, và tạo nhiều cơ hội. Nguy hiểm nhất là tình huống ở phút 71, khi Federico Dimarco đánh đầu cầu âu trúng xà rồi đánh đầu bồi trúng người đồng đội Romelu Lukaku.Dù vậy, Man City vẫn thắng nhờ khoảnh khắc tỏa sáng của Rodri.'],\n",
       " [25.486284,\n",
       "  'Thống kê siêu máy tính FiveThirtyEight cũng cho rằng cơ hội vô địch của thầy trò Pep Guardiola lên tới 75%, gấp ba lần đối thủ. Cựu tuyển thủ Anh Paul Merson cho rằng nếu hai đội chơi đúng sức, Man City sẽ thắng. \"Nhưng họ cũng chỉ là con người và không phải lúc nào cũng chơi đúng phong độ\", ông nói thêm.Inter đang được ví như cậu bé chăn cừu David, đứng trước gã khổng lồ Goliath trong cuốn sách Samuel. Nếu thắng, thầy trò Simone Inzaghi có thể tạo ra cú sốc lớn bậc nhất lịch sử chung kết Champions League. Dù các thống kê không đứng về phía Inter, mọi chuyện đều có thể xảy ra trong 90 phút. Đó có thể là lý do người trong cuộc như HLV Guardiola, tiền đạo Romelu Lukaku, Edin Dzeko, tiền vệ Kevin de Bruyne và thủ môn Ederson đều nhận định trận đấu là 50/50. \"Trong một trận chung kết, cơ hội thắng của mỗi đội luôn là 50%\", De Bruyne nhấn mạnh.Người hâm mộ Man City có lẽ chưa quên họ từng đứng trước tình huống tương tự, khi được đánh giá cao hơn hẳn Wigan tại chung kết Cup FA 10 năm trước, nhưng cuối cùng lại thua 0-1 ở phút bù hiệp hai. Đội được đánh giá cao hơn thường chịu áp lực lớn hơn, và điều đó càng dễ xảy ra trong trận chung kết.'],\n",
       " [25.391468,\n",
       "  ' \"Những gì còn lại chỉ là rất nhiều sự thất vọng, bởi chúng tôi đã chơi ngang ngửa với Man City, nhưng lại thua trận đấu quan trọng nhất\", Dimarco nói với Sport Mediaset sau chung kết tại Thổ Nhĩ Kỳ.Dimarco vỗ tay cảm ơn người hâm mộ Inter sau trận chung kết Champions League thua Man City 0-1 trên sân Ataturk, Istanbul ngày 10/6. Ảnh: inter.itHậu vệ Italy nhấn mạnh Man City được đầu tư rất nhiều tiền để hướng tới chức vô địch Champions League, nên tự hào khi Inter có thể thi đấu sòng phẳng, thậm chí nhỉnh hơn một vài thời điểm ở chung kết. Dimarco cho rằng Inter cống hiến 120% sức lực, nhưng đen đủi vì \"bóng không muốn đi vào lưới\".Trước giờ bóng lăn, Man City được đánh giá cao hơn hẳn Inter. Thống kê Opta nhận định cơ hội để đại diện Ngoại hạng Anh thắng lên tới 74%, gần gấp ba lần Inter. Danh thủ Xứ Wales Gareth Bale thậm chí dự đoán Man City sẽ thắng 5-0.Nhưng khi vào trận, Inter thi đấu ngang ngửa và thậm chí dứt điểm, tạo cơ hội nhiều hơn Man City. Đại diện Italy cầm bóng 44%, dứt điểm 14 lần với sáu cú trúng đích - so với 7 và 4 của đối thủ. Cơ hội ngon ăn nhất của Inter thuộc về chính Dimarco, khi anh đánh đầu cầu âu trúng xà ngang phút 71.'],\n",
       " [22.663118,\n",
       "  ' Đã lâu một trận chung kết Champions League mới được dự đoán chênh lệch đến vậy, khi hầu hết nhà cái, hãng thống kê và chuyên gia đều cho rằng cửa thắng của Man City cao hơn hẳn. Theo Sporting News, tỷ lệ cược giữa hai đội chênh lệch nhất trong 19 năm qua, kể từ khi họ ghi nhận các thông tin. Tỷ lệ cược của Man City trong trận này là 9/4, tức là không ăn đến một nửa tiền cược.Cầu thủ Man City mừng Erling Haaland phá kỷ lục ghi bàn Ngoại hạng Anh, ngày 3/5/2023 trên sân Etihad. Ảnh: ReutersThống kê Opta cũng nhận định cửa thắng của Man City lên tới 65%, của Inter chỉ là 16%, còn lại 19% khả năng hai đội hòa và bước vào hiệp phụ. Thống kê siêu máy tính FiveThirtyEight cũng cho rằng cơ hội vô địch của thầy trò Pep Guardiola lên tới 75%, gấp ba lần đối thủ. Cựu tuyển thủ Anh Paul Merson cho rằng nếu hai đội chơi đúng sức, Man City sẽ thắng. \"Nhưng họ cũng chỉ là con người và không phải lúc nào cũng chơi đúng phong độ\", ông nói thêm.Inter đang được ví như cậu bé chăn cừu David, đứng trước gã khổng lồ Goliath trong cuốn sách Samuel. Nếu thắng, thầy trò Simone Inzaghi có thể tạo ra cú sốc lớn bậc nhất lịch sử chung kết Champions League.'],\n",
       " [21.224749,\n",
       "  'Thống kê Opta nhận định cơ hội vô địch Champions League cho Man City lên tới 74%, gần gấp ba lần Inter. Nhưng muốn vô địch, họ vẫn phải chiến đấu thực sự.HLV Guardiola xúc động sau trận chung kết ở Wembley. Ảnh: Reuters\"Chúng tôi đang ở trong trường hợp có thể sẽ không bao giờ tái hiện nữa\", Guardiola nói về cơ hội ăn ba. \"Man City sẽ tập thêm khoảng ba, bốn buổi để chuẩn bị đấu Inter. Những gì Man City làm được đã quá tuyệt vời, nhưng mọi người sẽ đánh giá đội cao hơn nếu chúng tôi vô địch Champions League. Và chúng tôi phải thắng trận tới\".Guardiola thường phát biểu khiêm nhường, nhưng sẽ cần một đối thủ thực sự đáng gờm mới có thể ngăn chặn Man City ở phong độ hiện tại. Liệu Inter có phải một đội bóng như thế?Inter cũng được coi như \"ngựa ô\" ở trận chung kết, giống như Man Utd hôm trước. Nhiều người thường dự đoán kết quả trong một trận chung kết là 50/50. Hơn nữa, Man City chưa từng gặp Inter trong một trận chính thức. Vì thế trong hai ngày nghỉ vừa qua, Guardiola dành thời gian xem lại các trận đấu của đối thủ này. \"Bởi vì tôi chưa biết nhiều về Inter\", ông nói.Người Man City có những quan điểm khác nhau về trận chung kết sắp tới.']]"
      ]
     },
     "execution_count": 21,
     "metadata": {},
     "output_type": "execute_result"
    }
   ],
   "source": [
    "query = \"\"\"Trước chung kết Champions League mùa 2022-2023, Man City được đánh giá cao hơn hẳn Inter. Thống \"\"\"\n",
    "bm25_model.search(query=query, topk=5)"
   ]
  },
  {
   "cell_type": "code",
   "execution_count": null,
   "metadata": {},
   "outputs": [],
   "source": []
  }
 ],
 "metadata": {
  "kernelspec": {
   "display_name": "dl",
   "language": "python",
   "name": "python3"
  },
  "language_info": {
   "codemirror_mode": {
    "name": "ipython",
    "version": 3
   },
   "file_extension": ".py",
   "mimetype": "text/x-python",
   "name": "python",
   "nbconvert_exporter": "python",
   "pygments_lexer": "ipython3",
   "version": "3.8.16"
  },
  "orig_nbformat": 4
 },
 "nbformat": 4,
 "nbformat_minor": 2
}
