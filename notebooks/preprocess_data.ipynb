{
 "cells": [
  {
   "cell_type": "code",
   "execution_count": 32,
   "metadata": {},
   "outputs": [
    {
     "name": "stdout",
     "output_type": "stream",
     "text": [
      "/home/tuyendv/Desktop/reranker\n"
     ]
    }
   ],
   "source": [
    "%cd /home/tuyendv/Desktop/reranker/\n",
    "import json\n",
    "import pandas as pd\n",
    "import random"
   ]
  },
  {
   "cell_type": "code",
   "execution_count": 33,
   "metadata": {},
   "outputs": [],
   "source": [
    "def load_file(path):\n",
    "    with open(path, \"r\", encoding=\"utf-8\") as f:\n",
    "        data = []\n",
    "        for line in f.readlines():\n",
    "            json_obj = json.loads(line.strip())\n",
    "            data.append(json_obj)\n",
    "    return data\n",
    "\n",
    "def save_data(path, data):\n",
    "    with open(path, \"w\", encoding=\"utf-8\") as f:\n",
    "        for sample in data:\n",
    "            json_obj = json.dumps(sample, ensure_ascii=False)\n",
    "            f.write(json_obj+\"\\n\")"
   ]
  },
  {
   "cell_type": "code",
   "execution_count": 34,
   "metadata": {},
   "outputs": [],
   "source": [
    "def truncate_passage(passages):\n",
    "    for i, sample in enumerate(passages):\n",
    "        words = sample[\"passage_text\"].split(\" \")\n",
    "        if sample[\"is_selected\"] == 1:\n",
    "            if len(words) > 256:\n",
    "                return None\n",
    "            \n",
    "        else:\n",
    "            if len(words) > 256:\n",
    "                random_length = random.randint(224,256)\n",
    "                start = random.randint(0, len(words) - random_length)\n",
    "                words=words[start:start+random_length]\n",
    "        passage_text = \" \".join(words)\n",
    "        \n",
    "        passages[i][\"passage_text\"] = passage_text\n",
    "        \n",
    "    return passages"
   ]
  },
  {
   "cell_type": "code",
   "execution_count": 35,
   "metadata": {},
   "outputs": [
    {
     "data": {
      "text/html": [
       "<div>\n",
       "<style scoped>\n",
       "    .dataframe tbody tr th:only-of-type {\n",
       "        vertical-align: middle;\n",
       "    }\n",
       "\n",
       "    .dataframe tbody tr th {\n",
       "        vertical-align: top;\n",
       "    }\n",
       "\n",
       "    .dataframe thead th {\n",
       "        text-align: right;\n",
       "    }\n",
       "</style>\n",
       "<table border=\"1\" class=\"dataframe\">\n",
       "  <thead>\n",
       "    <tr style=\"text-align: right;\">\n",
       "      <th></th>\n",
       "      <th>query</th>\n",
       "      <th>passages</th>\n",
       "    </tr>\n",
       "  </thead>\n",
       "  <tbody>\n",
       "    <tr>\n",
       "      <th>0</th>\n",
       "      <td>Thủ tướng Trung Quốc là gì</td>\n",
       "      <td>[{'is_selected': 1, 'passage_text': 'Thủ tướng...</td>\n",
       "    </tr>\n",
       "    <tr>\n",
       "      <th>1</th>\n",
       "      <td>Những cây thánh giá tại ngọn đồi Thánh giá ở L...</td>\n",
       "      <td>[{'is_selected': 1, 'passage_text': 'Ngọn đồi ...</td>\n",
       "    </tr>\n",
       "    <tr>\n",
       "      <th>2</th>\n",
       "      <td>Lê Duẩn sinh năm bao nhiêu</td>\n",
       "      <td>[{'is_selected': 1, 'passage_text': 'Cha ông l...</td>\n",
       "    </tr>\n",
       "    <tr>\n",
       "      <th>3</th>\n",
       "      <td>Số lượng sọc đỏ - trắng trên quốc kỳ Mỹ tượng ...</td>\n",
       "      <td>[{'is_selected': 1, 'passage_text': 'Phía trên...</td>\n",
       "    </tr>\n",
       "    <tr>\n",
       "      <th>4</th>\n",
       "      <td>Hà Nội đã trải qua bao nhiêu lần đổi tên</td>\n",
       "      <td>[{'is_selected': 1, 'passage_text': 'Ông sinh ...</td>\n",
       "    </tr>\n",
       "  </tbody>\n",
       "</table>\n",
       "</div>"
      ],
      "text/plain": [
       "                                               query  \\\n",
       "0                         Thủ tướng Trung Quốc là gì   \n",
       "1  Những cây thánh giá tại ngọn đồi Thánh giá ở L...   \n",
       "2                         Lê Duẩn sinh năm bao nhiêu   \n",
       "3  Số lượng sọc đỏ - trắng trên quốc kỳ Mỹ tượng ...   \n",
       "4           Hà Nội đã trải qua bao nhiêu lần đổi tên   \n",
       "\n",
       "                                            passages  \n",
       "0  [{'is_selected': 1, 'passage_text': 'Thủ tướng...  \n",
       "1  [{'is_selected': 1, 'passage_text': 'Ngọn đồi ...  \n",
       "2  [{'is_selected': 1, 'passage_text': 'Cha ông l...  \n",
       "3  [{'is_selected': 1, 'passage_text': 'Phía trên...  \n",
       "4  [{'is_selected': 1, 'passage_text': 'Ông sinh ...  "
      ]
     },
     "execution_count": 35,
     "metadata": {},
     "output_type": "execute_result"
    }
   ],
   "source": [
    "path = '/home/tuyendv/Desktop/reranker/data/ir/train/zalo-ai-data.json'\n",
    "data = load_file(path)\n",
    "data = pd.DataFrame(data)\n",
    "data.head()"
   ]
  },
  {
   "cell_type": "code",
   "execution_count": 36,
   "metadata": {},
   "outputs": [],
   "source": [
    "data[\"truncated_passage\"] = data.passages.apply(truncate_passage)"
   ]
  },
  {
   "cell_type": "code",
   "execution_count": 37,
   "metadata": {},
   "outputs": [],
   "source": [
    "def get_length(query, passages):    \n",
    "    lengths = []\n",
    "    if passages == None:\n",
    "        return [0,]\n",
    "    for pa in passages:\n",
    "        tmp = pa[\"passage_text\"]\n",
    "        \n",
    "        lengths.append(len(tmp.split()))\n",
    "        \n",
    "    return lengths\n",
    "\n",
    "data[\"truncated_length\"] = data.apply(lambda x: get_length(x[\"query\"], x[\"truncated_passage\"]), axis=1)"
   ]
  },
  {
   "cell_type": "code",
   "execution_count": 38,
   "metadata": {},
   "outputs": [
    {
     "data": {
      "text/plain": [
       "<matplotlib.axes._subplots.AxesSubplot at 0x7fd5db7ffd90>"
      ]
     },
     "execution_count": 38,
     "metadata": {},
     "output_type": "execute_result"
    },
    {
     "data": {
      "image/png": "[encoded data removed]",
      "text/plain": [
       "<Figure size 640x480 with 1 Axes>"
      ]
     },
     "metadata": {},
     "output_type": "display_data"
    }
   ],
   "source": [
    "lengths = [i for j in data.truncated_length.tolist() for i in j]\n",
    "pd.DataFrame(lengths, columns=[\"lengths\"]).lengths.hist(bins=100)"
   ]
  },
  {
   "cell_type": "code",
   "execution_count": 39,
   "metadata": {},
   "outputs": [],
   "source": [
    "data[\"selected\"] = data.truncated_length.apply(lambda x: 0 if len(x) == 1 else 1)"
   ]
  },
  {
   "cell_type": "code",
   "execution_count": 9,
   "metadata": {},
   "outputs": [],
   "source": [
    "def convert_to_msmacro_format(data):\n",
    "    msmacro_data = []\n",
    "    for index in data.index:\n",
    "        query = data[\"query\"][index]\n",
    "        passages = data[\"truncated_passage\"][index]\n",
    "        \n",
    "        sample = {\n",
    "            \"query\":query,\n",
    "            \"passages\":passages\n",
    "        }\n",
    "        \n",
    "        msmacro_data.append(sample)\n",
    "        \n",
    "    return msmacro_data"
   ]
  },
  {
   "cell_type": "code",
   "execution_count": 10,
   "metadata": {},
   "outputs": [
    {
     "data": {
      "text/html": [
       "<div>\n",
       "<style scoped>\n",
       "    .dataframe tbody tr th:only-of-type {\n",
       "        vertical-align: middle;\n",
       "    }\n",
       "\n",
       "    .dataframe tbody tr th {\n",
       "        vertical-align: top;\n",
       "    }\n",
       "\n",
       "    .dataframe thead th {\n",
       "        text-align: right;\n",
       "    }\n",
       "</style>\n",
       "<table border=\"1\" class=\"dataframe\">\n",
       "  <thead>\n",
       "    <tr style=\"text-align: right;\">\n",
       "      <th></th>\n",
       "      <th>query</th>\n",
       "      <th>passages</th>\n",
       "      <th>truncated_passage</th>\n",
       "      <th>truncated_length</th>\n",
       "      <th>selected</th>\n",
       "    </tr>\n",
       "  </thead>\n",
       "  <tbody>\n",
       "    <tr>\n",
       "      <th>0</th>\n",
       "      <td>In what country is Normandy located?</td>\n",
       "      <td>[{'is_selected': 1, 'passage_text': 'The Norma...</td>\n",
       "      <td>[{'is_selected': 1, 'passage_text': 'The Norma...</td>\n",
       "      <td>[113, 153, 82, 99, 154, 101, 201, 49]</td>\n",
       "      <td>1</td>\n",
       "    </tr>\n",
       "    <tr>\n",
       "      <th>1</th>\n",
       "      <td>When were the Normans in Normandy?</td>\n",
       "      <td>[{'is_selected': 1, 'passage_text': 'The Norma...</td>\n",
       "      <td>[{'is_selected': 1, 'passage_text': 'The Norma...</td>\n",
       "      <td>[113, 153, 82, 99, 154, 101, 201, 49]</td>\n",
       "      <td>1</td>\n",
       "    </tr>\n",
       "    <tr>\n",
       "      <th>2</th>\n",
       "      <td>From which countries did the Norse originate?</td>\n",
       "      <td>[{'is_selected': 1, 'passage_text': 'The Norma...</td>\n",
       "      <td>[{'is_selected': 1, 'passage_text': 'The Norma...</td>\n",
       "      <td>[113, 153, 82, 99, 154, 101, 201, 49]</td>\n",
       "      <td>1</td>\n",
       "    </tr>\n",
       "    <tr>\n",
       "      <th>3</th>\n",
       "      <td>Who was the Norse leader?</td>\n",
       "      <td>[{'is_selected': 1, 'passage_text': 'The Norma...</td>\n",
       "      <td>[{'is_selected': 1, 'passage_text': 'The Norma...</td>\n",
       "      <td>[113, 153, 82, 99, 154, 101, 201, 49]</td>\n",
       "      <td>1</td>\n",
       "    </tr>\n",
       "    <tr>\n",
       "      <th>4</th>\n",
       "      <td>What century did the Normans first gain their ...</td>\n",
       "      <td>[{'is_selected': 1, 'passage_text': 'The Norma...</td>\n",
       "      <td>[{'is_selected': 1, 'passage_text': 'The Norma...</td>\n",
       "      <td>[113, 153, 82, 99, 154, 101, 201, 49]</td>\n",
       "      <td>1</td>\n",
       "    </tr>\n",
       "  </tbody>\n",
       "</table>\n",
       "</div>"
      ],
      "text/plain": [
       "                                               query  \\\n",
       "0               In what country is Normandy located?   \n",
       "1                 When were the Normans in Normandy?   \n",
       "2      From which countries did the Norse originate?   \n",
       "3                          Who was the Norse leader?   \n",
       "4  What century did the Normans first gain their ...   \n",
       "\n",
       "                                            passages  \\\n",
       "0  [{'is_selected': 1, 'passage_text': 'The Norma...   \n",
       "1  [{'is_selected': 1, 'passage_text': 'The Norma...   \n",
       "2  [{'is_selected': 1, 'passage_text': 'The Norma...   \n",
       "3  [{'is_selected': 1, 'passage_text': 'The Norma...   \n",
       "4  [{'is_selected': 1, 'passage_text': 'The Norma...   \n",
       "\n",
       "                                   truncated_passage  \\\n",
       "0  [{'is_selected': 1, 'passage_text': 'The Norma...   \n",
       "1  [{'is_selected': 1, 'passage_text': 'The Norma...   \n",
       "2  [{'is_selected': 1, 'passage_text': 'The Norma...   \n",
       "3  [{'is_selected': 1, 'passage_text': 'The Norma...   \n",
       "4  [{'is_selected': 1, 'passage_text': 'The Norma...   \n",
       "\n",
       "                        truncated_length  selected  \n",
       "0  [113, 153, 82, 99, 154, 101, 201, 49]         1  \n",
       "1  [113, 153, 82, 99, 154, 101, 201, 49]         1  \n",
       "2  [113, 153, 82, 99, 154, 101, 201, 49]         1  \n",
       "3  [113, 153, 82, 99, 154, 101, 201, 49]         1  \n",
       "4  [113, 153, 82, 99, 154, 101, 201, 49]         1  "
      ]
     },
     "execution_count": 10,
     "metadata": {},
     "output_type": "execute_result"
    }
   ],
   "source": [
    "data.head()"
   ]
  },
  {
   "cell_type": "code",
   "execution_count": 11,
   "metadata": {},
   "outputs": [
    {
     "data": {
      "text/plain": [
       "(11485, 5)"
      ]
     },
     "execution_count": 11,
     "metadata": {},
     "output_type": "execute_result"
    }
   ],
   "source": [
    "data[data.selected==1].shape"
   ]
  },
  {
   "cell_type": "code",
   "execution_count": 12,
   "metadata": {},
   "outputs": [
    {
     "data": {
      "text/plain": [
       "(388, 5)"
      ]
     },
     "execution_count": 12,
     "metadata": {},
     "output_type": "execute_result"
    }
   ],
   "source": [
    "data[data.selected==0].shape"
   ]
  },
  {
   "cell_type": "code",
   "execution_count": 13,
   "metadata": {},
   "outputs": [],
   "source": [
    "msmacro_format = convert_to_msmacro_format(data[data.selected==1])"
   ]
  },
  {
   "cell_type": "code",
   "execution_count": 14,
   "metadata": {},
   "outputs": [],
   "source": [
    "path = \"/home/tuyendv/Desktop/reranker/data/processed-ir-data/train/squad-dev-v2.0-en.json\"\n",
    "save_data(path, msmacro_format)"
   ]
  },
  {
   "cell_type": "code",
   "execution_count": null,
   "metadata": {},
   "outputs": [],
   "source": []
  },
  {
   "attachments": {},
   "cell_type": "markdown",
   "metadata": {},
   "source": [
    "### zalo data"
   ]
  },
  {
   "cell_type": "code",
   "execution_count": 30,
   "metadata": {},
   "outputs": [
    {
     "name": "stdout",
     "output_type": "stream",
     "text": [
      "/home/tuyendv/Desktop/reranker\n"
     ]
    }
   ],
   "source": [
    "%cd /home/tuyendv/Desktop/reranker/\n",
    "import json\n",
    "import pandas as pd\n",
    "import random\n",
    "from utils import load_file, save_data\n",
    "from bm25 import BM25\n",
    "from tqdm import tqdm\n",
    "    "
   ]
  },
  {
   "cell_type": "code",
   "execution_count": 12,
   "metadata": {},
   "outputs": [],
   "source": [
    "bm25 = BM25()"
   ]
  },
  {
   "cell_type": "code",
   "execution_count": 4,
   "metadata": {},
   "outputs": [],
   "source": [
    "path = \"query_passages_overlap=False.json\"\n",
    "data = json.load(open(path, \"r\", encoding=\"utf-8\"))\n"
   ]
  },
  {
   "cell_type": "code",
   "execution_count": 27,
   "metadata": {},
   "outputs": [
    {
     "name": "stderr",
     "output_type": "stream",
     "text": [
      "100%|██████████| 15557/15557 [03:40<00:00, 70.56it/s] \n"
     ]
    }
   ],
   "source": [
    "ir_data =[]\n",
    "for sample in tqdm(data):\n",
    "    query = sample[\"query\"]\n",
    "    passages = sample[\"passages\"]\n",
    "    \n",
    "    positive = None\n",
    "    contexts = []\n",
    "    for passage in passages:\n",
    "        if passage[\"is_selected\"] == 1:\n",
    "            positive = passage[\"passage_text\"]\n",
    "        else:\n",
    "            contexts.append([\"temp\",passage[\"passage_text\"]])\n",
    "    contexts = pd.DataFrame(contexts, columns=[\"id\",\"passage_text\"])\n",
    "    if len(contexts) <= 2:\n",
    "        continue\n",
    "    bm25.train(contexts)\n",
    "    if len(contexts) < 7:\n",
    "        topk = len(contexts)\n",
    "    else:\n",
    "        topk=7\n",
    "    negatives = bm25.ranking(positive, topk)[\"retrieval_text\"].tolist()\n",
    "    \n",
    "    negatives = [\n",
    "        {\n",
    "            \"is_selected\":0,\n",
    "            \"passage_text\":neg\n",
    "            } \n",
    "        for neg in negatives]\n",
    "    positive = {\n",
    "        \"is_selected\":1,\n",
    "        \"passage_text\":positive\n",
    "    }\n",
    "    \n",
    "    passages = [positive,]+negatives\n",
    "    \n",
    "    ir_data.append(\n",
    "        {\n",
    "            \"query\":query,\n",
    "            \"passages\":passages\n",
    "            }\n",
    "    )    "
   ]
  },
  {
   "cell_type": "code",
   "execution_count": 28,
   "metadata": {},
   "outputs": [
    {
     "data": {
      "text/plain": [
       "12091"
      ]
     },
     "execution_count": 28,
     "metadata": {},
     "output_type": "execute_result"
    }
   ],
   "source": [
    "len(ir_data)"
   ]
  },
  {
   "cell_type": "code",
   "execution_count": 31,
   "metadata": {},
   "outputs": [],
   "source": [
    "path = \"/home/tuyendv/Desktop/reranker/data/ir/train/zalo-ai-data.json\"\n",
    "save_data(path, ir_data)"
   ]
  }
 ],
 "metadata": {
  "kernelspec": {
   "display_name": "dl",
   "language": "python",
   "name": "python3"
  },
  "language_info": {
   "codemirror_mode": {
    "name": "ipython",
    "version": 3
   },
   "file_extension": ".py",
   "mimetype": "text/x-python",
   "name": "python",
   "nbconvert_exporter": "python",
   "pygments_lexer": "ipython3",
   "version": "3.8.16"
  },
  "orig_nbformat": 4
 },
 "nbformat": 4,
 "nbformat_minor": 2
}
