{
 "cells": [
  {
   "cell_type": "code",
   "execution_count": null,
   "metadata": {},
   "outputs": [],
   "source": [
    "import pandas as pd\n",
    "import json\n",
    "import re\n",
    "from pandarallel import pandarallel\n",
    "from glob import glob\n",
    "pandarallel.initialize(nb_workers=4, progress_bar=True)"
   ]
  },
  {
   "cell_type": "code",
   "execution_count": null,
   "metadata": {},
   "outputs": [],
   "source": [
    "def preprocess(text):\n",
    "    text = re.sub(\n",
    "        r'[^a-zaăâáắấàằầảẳẩãẵẫạặậđeêéếèềẻểẽễẹệiíìỉĩịoôơóốớòồờỏổởõỗỡọộợuưúứùừủửũữụựyýỳỷỹỵ \\\n",
    "            A-ZAĂÂÁẮẤÀẰẦẢẲẨÃẴẪẠẶẬĐEÊÉẾÈỀẺỂẼỄẸỆIÍÌỈĨỊOÔƠÓỐỚÒỒỜỎỔỞÕỖỠỌỘỢUƯÚỨÙỪỦỬŨỮỤỰYÝỲỶỸỴ\\(\\)\\{\\}\\,\\.\\:\\-\\%\\?\\!0-9\\s]+', \n",
    "        ' ', text)\n",
    "    text = re.sub(r'[\\=\\~\\@\\$\\^\\&\\*\\*\\\"\\']+', ' ', text)\n",
    "    text = re.sub(f' +', ' ', text)\n",
    "    return text\n",
    "\n",
    "def load_docs(path=\"../data/docs\"):\n",
    "    txt_paths = glob(path+\"/*.txt\")\n",
    "    datas = []\n",
    "    for path in txt_paths:\n",
    "        with open(path, \"r\", encoding=\"utf-8\") as f:\n",
    "            data = f.readlines()\n",
    "            data = [preprocess(line) for line in data if len(line.strip()) > 0]\n",
    "        datas.append(data)\n",
    "    return datas\n",
    "\n",
    "docs = load_docs()"
   ]
  },
  {
   "cell_type": "code",
   "execution_count": null,
   "metadata": {},
   "outputs": [],
   "source": [
    "max_overlap_length = 128\n",
    "max_length = 256"
   ]
  },
  {
   "cell_type": "code",
   "execution_count": null,
   "metadata": {},
   "outputs": [],
   "source": [
    "def split_doc_in_sent_level(doc, max_length=256, max_overlap_length=128):\n",
    "    chunks = []\n",
    "    current_chunk = \"\"\n",
    "    current_length = 0\n",
    "    \n",
    "    index = 0\n",
    "    remain_overlap_length = max_overlap_length\n",
    "    while index < len(doc):\n",
    "        sent = doc[index]\n",
    "        if current_length + len(sent.split(\" \")) > max_length:\n",
    "            chunks.append(current_chunk)\n",
    "            while len(doc[index].split(\" \")) < remain_overlap_length:\n",
    "                remain_overlap_length -=len(doc[index].split(\" \"))\n",
    "                if index == 0:\n",
    "                    break\n",
    "                index -= 1\n",
    "            index += 1\n",
    "            if index == len(doc):\n",
    "                break\n",
    "            current_chunk = doc[index]\n",
    "            current_length = len(current_chunk.split(\" \"))\n",
    "            remain_overlap_length = max_overlap_length\n",
    "        else:\n",
    "            current_chunk = current_chunk + \" \" + sent\n",
    "            current_length = len(current_chunk.split(\" \"))\n",
    "        \n",
    "        index += 1\n",
    "    chunks.append(current_chunk)\n",
    "    \n",
    "    return chunks"
   ]
  },
  {
   "cell_type": "code",
   "execution_count": null,
   "metadata": {},
   "outputs": [],
   "source": [
    "chunks"
   ]
  },
  {
   "cell_type": "code",
   "execution_count": 3,
   "metadata": {},
   "outputs": [
    {
     "ename": "NameError",
     "evalue": "name 'chunks' is not defined",
     "output_type": "error",
     "traceback": [
      "\u001b[0;31m---------------------------------------------------------------------------\u001b[0m",
      "\u001b[0;31mNameError\u001b[0m                                 Traceback (most recent call last)",
      "Cell \u001b[0;32mIn[3], line 1\u001b[0m\n\u001b[0;32m----> 1\u001b[0m chunks_df \u001b[39m=\u001b[39m pd\u001b[39m.\u001b[39mDataFrame(chunks, columns\u001b[39m=\u001b[39m[\u001b[39m\"\u001b[39m\u001b[39mchunk\u001b[39m\u001b[39m\"\u001b[39m])\n\u001b[1;32m      2\u001b[0m chunks_df\u001b[39m.\u001b[39mhead()\n",
      "\u001b[0;31mNameError\u001b[0m: name 'chunks' is not defined"
     ]
    }
   ],
   "source": [
    "chunks_df = pd.DataFrame(chunks, columns=[\"chunk\"])\n",
    "chunks_df.head()"
   ]
  },
  {
   "cell_type": "code",
   "execution_count": 4,
   "metadata": {},
   "outputs": [],
   "source": [
    "path = \"../outputs/chunks/sent_chunks.csv\"\n",
    "chunks_df = pd.read_csv(path)"
   ]
  },
  {
   "cell_type": "code",
   "execution_count": 5,
   "metadata": {},
   "outputs": [
    {
     "data": {
      "application/vnd.jupyter.widget-view+json": {
       "model_id": "1c0114abef4245edbfd767756f73636e",
       "version_major": 2,
       "version_minor": 0
      },
      "text/plain": [
       "VBox(children=(HBox(children=(IntProgress(value=0, description='0.00%', max=22), Label(value='0 / 22'))), HBox…"
      ]
     },
     "metadata": {},
     "output_type": "display_data"
    }
   ],
   "source": [
    "chunks_df[\"length\"] = chunks_df.chunk.parallel_apply(lambda x: len(x.split(\" \")))"
   ]
  },
  {
   "cell_type": "code",
   "execution_count": 7,
   "metadata": {},
   "outputs": [
    {
     "data": {
      "text/plain": [
       "<matplotlib.axes._subplots.AxesSubplot at 0x7f1c41a59190>"
      ]
     },
     "execution_count": 7,
     "metadata": {},
     "output_type": "execute_result"
    },
    {
     "data": {
      "image/png": "[encoded data removed]",
      "text/plain": [
       "<Figure size 640x480 with 1 Axes>"
      ]
     },
     "metadata": {},
     "output_type": "display_data"
    }
   ],
   "source": [
    "chunks_df.length.hist(bins=100)"
   ]
  },
  {
   "cell_type": "code",
   "execution_count": null,
   "metadata": {},
   "outputs": [],
   "source": [
    "chunks_df[[\"chunk\"]].to_csv(\"../outputs/chunks/sent_chunks.csv\")"
   ]
  }
 ],
 "metadata": {
  "kernelspec": {
   "display_name": "dl",
   "language": "python",
   "name": "python3"
  },
  "language_info": {
   "codemirror_mode": {
    "name": "ipython",
    "version": 3
   },
   "file_extension": ".py",
   "mimetype": "text/x-python",
   "name": "python",
   "nbconvert_exporter": "python",
   "pygments_lexer": "ipython3",
   "version": "3.8.16"
  },
  "orig_nbformat": 4
 },
 "nbformat": 4,
 "nbformat_minor": 2
}
