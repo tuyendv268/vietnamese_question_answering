{
 "cells": [
  {
   "cell_type": "code",
   "execution_count": null,
   "metadata": {},
   "outputs": [],
   "source": [
    "import json\n",
    "import re\n",
    "import pandas as pd"
   ]
  },
  {
   "cell_type": "code",
   "execution_count": null,
   "metadata": {},
   "outputs": [],
   "source": [
    "path =  \"/mnt/sda2/datas/mbf_ir/data/vnexpress/chatgpt.txt\"\n",
    "with open(path, \"r\", encoding=\"utf-8\") as f:\n",
    "    contents = f.readlines()\n",
    "    data = [json.loads(line) for line in contents]"
   ]
  },
  {
   "cell_type": "code",
   "execution_count": null,
   "metadata": {},
   "outputs": [],
   "source": [
    "ir_data = []\n",
    "for sample in data[1:]:\n",
    "    passage = sample[\"context\"]\n",
    "    questions = sample[\"question\"]\n",
    "    \n",
    "    # questions = re.sub(\"(QUESTION|Question|question)[\\s_-]*\\d*:*\", \"\\n\", questions)\n",
    "    # questions = re.sub(\"(CÂU[\\s_]HỎI|Câu[\\s_]Hỏi|câu[\\s_]hỏi)[\\s_-]*\\d*:*\", \"\\n\", questions)\n",
    "    questions = re.sub(\"([Qq][uU][Ee][sS][Tt][Ii][Oo][Nn])[\\s_-]*\\d\\s*:*\", \"\\n\", questions)\n",
    "    questions = re.sub(\"([Cc][âÂ][Uu][\\s_][Hh][Ỏỏ][Ii])[\\s_-]*\\d\\s*:*\", \"\\n\", questions)\n",
    "\n",
    "    \n",
    "    questions = re.sub(\"\\n+\", \"\\n\", questions)\n",
    "    questions = [tmp.strip() for tmp in questions.split(\"\\n\") if len(tmp.strip()) > 0]\n",
    "    if len(questions) <= 1:\n",
    "        continue\n",
    "    samples = [[question, passage] for question in questions]\n",
    "    \n",
    "    ir_data += samples"
   ]
  },
  {
   "cell_type": "code",
   "execution_count": null,
   "metadata": {},
   "outputs": [],
   "source": [
    "df = pd.DataFrame(ir_data, columns=[\"question\", \"passage\"])\n",
    "df.head()"
   ]
  },
  {
   "cell_type": "code",
   "execution_count": null,
   "metadata": {},
   "outputs": [],
   "source": [
    "def filter_question(question):\n",
    "    _CHAR = \"qwertyuiopadsfghjklzxcvbnmaăâáắấàằầảẳẩãẵẫạặậđeêéếèềẻểẽễẹệiíìỉĩịoôơóốớòồờỏổởõỗỡọộợuưúứùừủửũữụựyýỳỷỹỵ\".upper()\n",
    "    count = 0\n",
    "    for i in _CHAR:\n",
    "        if i in question:\n",
    "            count += 1\n",
    "        if count >= 2:\n",
    "            return 1\n",
    "    return 0\n",
    "\n",
    "df[\"is_selected\"] = df.question.apply(lambda x: filter_question(x))"
   ]
  },
  {
   "cell_type": "code",
   "execution_count": null,
   "metadata": {},
   "outputs": [],
   "source": [
    "df[df.is_selected==1].to_csv(\"/mnt/sda2/datas/mbf_ir/data/vnexpress/question-context.txt\")"
   ]
  },
  {
   "attachments": {},
   "cell_type": "markdown",
   "metadata": {},
   "source": [
    "### generate hard negative"
   ]
  },
  {
   "cell_type": "code",
   "execution_count": null,
   "metadata": {},
   "outputs": [],
   "source": [
    "%cd /mnt/sda2/datas/mbf_ir/demo\n",
    "import json\n",
    "import os\n",
    "from glob import glob\n",
    "from tqdm import tqdm\n",
    "from underthesea import sent_tokenize\n",
    "from utils import norm_text\n",
    "import pandas as pd\n",
    "from bm25 import BM25"
   ]
  },
  {
   "cell_type": "code",
   "execution_count": null,
   "metadata": {},
   "outputs": [],
   "source": [
    "df.head()"
   ]
  },
  {
   "cell_type": "code",
   "execution_count": null,
   "metadata": {},
   "outputs": [],
   "source": [
    "passage = list(set(df[\"passage\"].tolist()))\n",
    "passages = pd.DataFrame(passage, columns=[\"passage_text\"])\n",
    "passages.head()"
   ]
  },
  {
   "cell_type": "code",
   "execution_count": null,
   "metadata": {},
   "outputs": [],
   "source": [
    "bm25_model = BM25()\n",
    "bm25_model.train(passages)"
   ]
  },
  {
   "cell_type": "code",
   "execution_count": null,
   "metadata": {},
   "outputs": [],
   "source": [
    "query = \"\"\"Trước chung kết Champions League mùa 2022-2023, Man City được đánh giá cao hơn hẳn Inter. Thống \"\"\"\n",
    "bm25_model.search(query=query, topk=5)"
   ]
  },
  {
   "cell_type": "code",
   "execution_count": null,
   "metadata": {},
   "outputs": [],
   "source": [
    "def gen_hard_neg_smpl(passage):\n",
    "    negs = bm25_model.search(query=query, topk=32)\n",
    "    negs = [i[1] for i in negs]\n",
    "    \n",
    "    return negs\n",
    "\n",
    "df[\"negatives\"]=df.passage.apply(gen_hard_neg_smpl)"
   ]
  },
  {
   "cell_type": "code",
   "execution_count": null,
   "metadata": {},
   "outputs": [],
   "source": [
    "df.head()"
   ]
  },
  {
   "cell_type": "code",
   "execution_count": null,
   "metadata": {},
   "outputs": [],
   "source": [
    "msmacro_data = []\n",
    "for index in tqdm(df.index):\n",
    "    query = df[\"question\"][index]\n",
    "    positive = df[\"passage\"][index]\n",
    "    negatives = df[\"negatives\"][index]\n",
    "    \n",
    "    passages = [\n",
    "        {\n",
    "            \"passage_text\":positive,\n",
    "            \"is_selected\":1\n",
    "        }\n",
    "    ]\n",
    "    \n",
    "    for negative in negatives:\n",
    "        sample = {\n",
    "            \"passage_text\":negative,\n",
    "            \"is_selected\":0\n",
    "        }\n",
    "        \n",
    "        passages.append(sample)\n",
    "    \n",
    "    sample = {\n",
    "        \"query\":query,\n",
    "        \"passages\":passages\n",
    "    }\n",
    "    msmacro_data.append(sample)"
   ]
  },
  {
   "cell_type": "code",
   "execution_count": null,
   "metadata": {},
   "outputs": [],
   "source": [
    "msmacro_data[0]"
   ]
  },
  {
   "cell_type": "code",
   "execution_count": null,
   "metadata": {},
   "outputs": [],
   "source": [
    "def save_data(path, data):\n",
    "    with open(path, \"w\", encoding=\"utf-8\") as f:\n",
    "        for sample in data:\n",
    "            json_obj = json.dumps(sample, ensure_ascii=False)\n",
    "            f.write(json_obj+\"\\n\")\n",
    "path = \"/mnt/sda2/datas/mbf_ir/data/vnexpress/vnexpress-dataset.jsonl\"\n",
    "save_data(path, msmacro_data)"
   ]
  }
 ],
 "metadata": {
  "kernelspec": {
   "display_name": "dl",
   "language": "python",
   "name": "python3"
  },
  "language_info": {
   "codemirror_mode": {
    "name": "ipython",
    "version": 3
   },
   "file_extension": ".py",
   "mimetype": "text/x-python",
   "name": "python",
   "nbconvert_exporter": "python",
   "pygments_lexer": "ipython3",
   "version": "3.8.16"
  },
  "orig_nbformat": 4
 },
 "nbformat": 4,
 "nbformat_minor": 2
}
